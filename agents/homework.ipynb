{
 "cells": [
  {
   "cell_type": "code",
   "execution_count": 8,
   "id": "ab085b40",
   "metadata": {},
   "outputs": [],
   "source": [
    "from dotenv import load_dotenv\n",
    "import os"
   ]
  },
  {
   "cell_type": "code",
   "execution_count": 10,
   "id": "24d43a37",
   "metadata": {},
   "outputs": [],
   "source": [
    "load_dotenv() \n",
    "API_KEY = os.getenv(\"GOOGLE_API_KEY\")"
   ]
  },
  {
   "cell_type": "markdown",
   "id": "b05d5082",
   "metadata": {},
   "source": [
    "## TESTING"
   ]
  },
  {
   "cell_type": "code",
   "execution_count": null,
   "id": "05721ac8",
   "metadata": {},
   "outputs": [],
   "source": [
    "import random\n",
    "\n",
    "known_weather_data = {\n",
    "    'berlin': 20.0\n",
    "}\n",
    "\n",
    "def get_weather(city: str) -> float:\n",
    "    city = city.strip().lower()\n",
    "\n",
    "    if city in known_weather_data:\n",
    "        return known_weather_data[city]\n",
    "\n",
    "    return round(random.uniform(-5, 35), 1)"
   ]
  },
  {
   "cell_type": "markdown",
   "id": "effeba9a",
   "metadata": {},
   "source": [
    "#### Answer: 1"
   ]
  },
  {
   "cell_type": "code",
   "execution_count": 17,
   "id": "97782398",
   "metadata": {},
   "outputs": [
    {
     "name": "stdout",
     "output_type": "stream",
     "text": [
      "Gemini raw reply:\n",
      " ```json\n",
      "{\n",
      "  \"action\": \"CALL\",\n",
      "  \"function\": \"get_weather\",\n",
      "  \"arguments\": {\n",
      "    \"city\": \"Berlin\"\n",
      "  }\n",
      "}\n",
      "```\n",
      "\n",
      "✅ Function result: 20.0°C\n"
     ]
    }
   ],
   "source": [
    "from google import genai\n",
    "import json\n",
    "import random\n",
    "\n",
    "\n",
    "def get_weather(city: str) -> float:\n",
    "    known_weather_data = {'berlin': 20.0}\n",
    "    city = city.strip().lower()\n",
    "    return known_weather_data.get(city, round(random.uniform(-5, 35), 1))\n",
    "\n",
    "# Step 1: User query\n",
    "question = \"What's the weather like in Berlin?\"\n",
    "\n",
    "prompt = f\"\"\"\n",
    "You're a helpful assistant with access to a tool called `get_weather(city: str) -> float`.\n",
    "\n",
    "If someone asks about the weather in a city, respond with:\n",
    "{{\n",
    "  \"action\": \"CALL\",\n",
    "  \"function\": \"get_weather\",\n",
    "  \"arguments\": {{\n",
    "    \"city\": \"<city name>\"\n",
    "  }}\n",
    "}}\n",
    "\n",
    "Otherwise respond with a regular answer.\n",
    "\n",
    "User: {question}\n",
    "\"\"\"\n",
    "\n",
    "# Step 2: Call Gemini\n",
    "response = client.models.generate_content(\n",
    "    model=\"gemini-2.0-flash\",\n",
    "    contents=[genai.types.Content(role=\"user\", parts=[genai.types.Part(text=prompt)])]\n",
    ")\n",
    "\n",
    "reply = response.candidates[0].content.parts[0].text\n",
    "print(\"Gemini raw reply:\\n\", reply)\n",
    "\n",
    "# Step 3: Parse and execute function if valid JSON\n",
    "start = reply.find('{')\n",
    "end = reply.rfind('}') + 1\n",
    "\n",
    "try:\n",
    "    response_json = json.loads(reply[start:end])\n",
    "    if response_json.get(\"action\") == \"CALL\" and response_json.get(\"function\") == \"get_weather\":\n",
    "        city = response_json[\"arguments\"][\"city\"]\n",
    "        result = get_weather(city)\n",
    "        print(f\"✅ Function result: {result}°C\")\n",
    "    else:\n",
    "        print(\"Gemini didn't suggest a function call. Response:\", reply)\n",
    "except Exception as e:\n",
    "    print(\"Could not parse Gemini's reply as JSON. Response:\", reply)\n",
    "    print(\"Error:\", str(e))\n"
   ]
  },
  {
   "cell_type": "code",
   "execution_count": null,
   "id": "26f3f711",
   "metadata": {},
   "outputs": [],
   "source": [
    "known_weather_data = {\n",
    "    \"berlin\": 20.0\n",
    "}\n",
    "\n",
    "def set_weather(city: str, temp: float) -> None:\n",
    "    city = city.strip().lower()\n",
    "    known_weather_data[city] = temp\n",
    "    return 'OK'"
   ]
  },
  {
   "cell_type": "markdown",
   "id": "e9dd4da4",
   "metadata": {},
   "source": [
    "#### Answer: 2 "
   ]
  },
  {
   "cell_type": "code",
   "execution_count": null,
   "id": "54d48c90",
   "metadata": {},
   "outputs": [],
   "source": [
    "set_weather_tool = {\n",
    "    \"type\": \"function\",\n",
    "    \"name\": \"set_weather\",\n",
    "    \"description\": \"Adds or updates the weather temperature for a specific city in the database.\",\n",
    "    \"parameters\": {\n",
    "        \"type\": \"object\",\n",
    "        \"properties\": {\n",
    "            \"city\": {\n",
    "                \"type\": \"string\",\n",
    "                \"description\": \"The name of the city to update weather for.\"\n",
    "            },\n",
    "            \"temp\": {\n",
    "                \"type\": \"number\",\n",
    "                \"description\": \"Temperature in Celsius for the city.\"\n",
    "            }\n",
    "        },\n",
    "        \"required\": [\"city\", \"temp\"],\n",
    "        \"additionalProperties\": False\n",
    "    }\n",
    "}\n"
   ]
  },
  {
   "cell_type": "code",
   "execution_count": null,
   "id": "370af7da",
   "metadata": {},
   "outputs": [],
   "source": []
  }
 ],
 "metadata": {
  "kernelspec": {
   "display_name": "Python 3",
   "language": "python",
   "name": "python3"
  },
  "language_info": {
   "codemirror_mode": {
    "name": "ipython",
    "version": 3
   },
   "file_extension": ".py",
   "mimetype": "text/x-python",
   "name": "python",
   "nbconvert_exporter": "python",
   "pygments_lexer": "ipython3",
   "version": "3.11.9"
  }
 },
 "nbformat": 4,
 "nbformat_minor": 5
}
