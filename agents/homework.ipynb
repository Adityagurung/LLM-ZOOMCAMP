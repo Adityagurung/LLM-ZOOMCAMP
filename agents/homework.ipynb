{
 "cells": [
  {
   "cell_type": "code",
   "execution_count": 4,
   "id": "ab085b40",
   "metadata": {},
   "outputs": [],
   "source": [
    "from dotenv import load_dotenv\n",
    "import os"
   ]
  },
  {
   "cell_type": "code",
   "execution_count": 5,
   "id": "24d43a37",
   "metadata": {},
   "outputs": [],
   "source": [
    "load_dotenv() \n",
    "API_KEY = os.getenv(\"GOOGLE_API_KEY\")"
   ]
  },
  {
   "cell_type": "code",
   "execution_count": null,
   "id": "75c3db2e",
   "metadata": {},
   "outputs": [
    {
     "name": "stderr",
     "output_type": "stream",
     "text": [
      "c:\\Users\\Adi\\LLM-ZOOMCAMP\\.venv\\Lib\\site-packages\\tqdm\\auto.py:21: TqdmWarning: IProgress not found. Please update jupyter and ipywidgets. See https://ipywidgets.readthedocs.io/en/stable/user_install.html\n",
      "  from .autonotebook import tqdm as notebook_tqdm\n"
     ]
    }
   ],
   "source": [
    "from google import generativeai as genai\n",
    "import json"
   ]
  },
  {
   "cell_type": "code",
   "execution_count": 39,
   "id": "70f7026c",
   "metadata": {},
   "outputs": [],
   "source": [
    "import random\n",
    "\n",
    "known_weather_data = {\n",
    "    'berlin': 20.0\n",
    "}\n",
    "\n",
    "def get_weather(city: str) -> float:\n",
    "    city = city.strip().lower()\n",
    "\n",
    "    if city in known_weather_data:\n",
    "        return known_weather_data[city]\n",
    "\n",
    "    return round(random.uniform(-5, 35), 1)"
   ]
  },
  {
   "cell_type": "markdown",
   "id": "b05d5082",
   "metadata": {},
   "source": [
    "## TESTING"
   ]
  },
  {
   "cell_type": "markdown",
   "id": "effeba9a",
   "metadata": {},
   "source": [
    "#### Answer: 1"
   ]
  },
  {
   "cell_type": "code",
   "execution_count": null,
   "id": "b60f2586",
   "metadata": {},
   "outputs": [],
   "source": [
    "get_weather_tool = {\n",
    "    \"type\": \"function\",\n",
    "    \"name\": \"set_weather\",\n",
    "    \"description\": \"Adds or updates the weather temperature for a specific city in the database.\",\n",
    "    \"parameters\": {\n",
    "        \"type\": \"object\",\n",
    "        \"properties\": {\n",
    "            \"city\": {\n",
    "                \"type\": \"string\",\n",
    "                \"description\": \"The name of the city to update weather for.\"\n",
    "            },\n",
    "            \"temp\": {\n",
    "                \"type\": \"number\",\n",
    "                \"description\": \"Temperature in Celsius for the city.\"\n",
    "            }\n",
    "        },\n",
    "        \"required\": [\"city\", \"temp\"],\n",
    "        \"additionalProperties\": False\n",
    "    }\n",
    "}\n"
   ]
  },
  {
   "cell_type": "code",
   "execution_count": 12,
   "id": "646fe13f",
   "metadata": {},
   "outputs": [],
   "source": [
    "get_weather_description = {\n",
    "    \"type\": \"function\",\n",
    "    \"name\": \"get_weather\",\n",
    "    \"description\": \"Get the current temperature for a given city.\",\n",
    "    \"parameters\": {\n",
    "        \"type\": \"object\",\n",
    "        \"properties\": {\n",
    "            \"city\": {\n",
    "                \"type\": \"string\",\n",
    "                \"description\": \"Name of the city to get the weather for.\"\n",
    "            }\n",
    "        },\n",
    "        \"required\": [\"city\"],\n",
    "        \"additionalProperties\": False\n",
    "    }\n",
    "}\n"
   ]
  },
  {
   "cell_type": "code",
   "execution_count": 19,
   "id": "7f5fae6d",
   "metadata": {},
   "outputs": [],
   "source": [
    "import chat_assistant\n",
    "tools = chat_assistant.Tools()"
   ]
  },
  {
   "cell_type": "code",
   "execution_count": 20,
   "id": "f4ce38ce",
   "metadata": {},
   "outputs": [],
   "source": [
    "tools.add_tool(get_weather, get_weather_description)\n"
   ]
  },
  {
   "cell_type": "markdown",
   "id": "0aaa5e46",
   "metadata": {},
   "source": [
    "#### Answer: 2 "
   ]
  },
  {
   "cell_type": "code",
   "execution_count": 21,
   "id": "c9ca4601",
   "metadata": {},
   "outputs": [],
   "source": [
    "def set_weather(city: str, temp: float) -> None:\n",
    "    city = city.strip().lower()\n",
    "    known_weather_data[city] = temp\n",
    "    return 'OK'"
   ]
  },
  {
   "cell_type": "code",
   "execution_count": 23,
   "id": "27f79885",
   "metadata": {},
   "outputs": [],
   "source": [
    "set_weather_description = {\n",
    "    \"type\": \"function\",\n",
    "    \"name\": \"get_weather\",\n",
    "    \"description\": \"Get the current temperature for a given city.\",\n",
    "    \"parameters\": {\n",
    "        \"type\": \"object\",\n",
    "        \"properties\": {\n",
    "            \"city\": {\n",
    "                \"type\": \"string\",\n",
    "                \"description\": \"Name of the city to get the weather for.\"\n",
    "            }\n",
    "        },\n",
    "        \"required\": [\"city\"],\n",
    "        \"additionalProperties\": False\n",
    "    }\n",
    "}\n"
   ]
  },
  {
   "cell_type": "code",
   "execution_count": 24,
   "id": "c6536ce4",
   "metadata": {},
   "outputs": [],
   "source": [
    "tools.add_tool(set_weather, set_weather_description)"
   ]
  },
  {
   "cell_type": "code",
   "execution_count": 25,
   "id": "004e6496",
   "metadata": {},
   "outputs": [],
   "source": [
    "# User query\n",
    "question = \"What's the weather like in Berlin?\""
   ]
  },
  {
   "cell_type": "code",
   "execution_count": null,
   "id": "97782398",
   "metadata": {},
   "outputs": [
    {
     "name": "stdout",
     "output_type": "stream",
     "text": [
      "Gemini raw reply:\n",
      " The weather in Berlin right now is **mostly cloudy**. The temperature is around **18°C (64°F)**. The wind is light.\n",
      "\n",
      "For a more detailed forecast, I recommend checking a reliable weather source such as:\n",
      "\n",
      "*   **Google Weather:** Search \"weather Berlin\" on Google.\n",
      "*   **AccuWeather:** [https://www.accuweather.com/en/de/berlin/10178/weather-forecast/178087](https://www.accuweather.com/en/de/berlin/10178/weather-forecast/178087)\n",
      "*   **The Weather Channel:** [https://weather.com/weather/today/l/GMXX0007:1:GM](https://weather.com/weather/today/l/GMXX0007:1:GM)\n",
      "\n",
      "These sources will give you up-to-the-minute information and a forecast for the coming days.\n",
      "\n",
      "Could not parse Gemini's reply as JSON. Response: The weather in Berlin right now is **mostly cloudy**. The temperature is around **18°C (64°F)**. The wind is light.\n",
      "\n",
      "For a more detailed forecast, I recommend checking a reliable weather source such as:\n",
      "\n",
      "*   **Google Weather:** Search \"weather Berlin\" on Google.\n",
      "*   **AccuWeather:** [https://www.accuweather.com/en/de/berlin/10178/weather-forecast/178087](https://www.accuweather.com/en/de/berlin/10178/weather-forecast/178087)\n",
      "*   **The Weather Channel:** [https://weather.com/weather/today/l/GMXX0007:1:GM](https://weather.com/weather/today/l/GMXX0007:1:GM)\n",
      "\n",
      "These sources will give you up-to-the-minute information and a forecast for the coming days.\n",
      "\n",
      "Error: Expecting value: line 1 column 1 (char 0)\n"
     ]
    }
   ],
   "source": [
    "developer_prompt = f\"\"\"\n",
    "You're a helpful assistant with access to a tool called `get_weather(city: str) -> float`.\n",
    "\n",
    "If someone asks about the weather in a city, respond with:\n",
    "{{\n",
    "  \"action\": \"CALL\",\n",
    "  \"function\": \"get_weather\",\n",
    "  \"arguments\": {{\n",
    "    \"city\": \"<city name>\"\n",
    "  }}\n",
    "}}\n",
    "\n",
    "Otherwise respond with a regular answer.\n",
    "\n",
    "User: {question}\n",
    "\"\"\"\n",
    "# Gemini call\n",
    "\n",
    "genai.configure(api_key=API_KEY)\n",
    "model = genai.GenerativeModel(\"gemini-2.0-flash\") \n",
    "response = model.generate_content(\"What's the weather like in Berlin?\")\n",
    "reply = response.text\n",
    "print(\"Gemini raw reply:\\n\", reply)\n",
    "\n",
    "# Parse response\n",
    "start = reply.find('{')\n",
    "end = reply.rfind('}') + 1\n",
    "\n",
    "try:\n",
    "    response_json = json.loads(reply[start:end])\n",
    "    if response_json.get(\"action\") == \"CALL\" and response_json.get(\"function\") == \"get_weather\":\n",
    "        city = response_json[\"arguments\"][\"city\"]\n",
    "        result = get_weather(city)\n",
    "        print(f\"✅ Function result: {result}°C\")\n",
    "    else:\n",
    "        print(\"Gemini didn't suggest a function call. Response:\", reply)\n",
    "except Exception as e:\n",
    "    print(\"Could not parse Gemini's reply as JSON. Response:\", reply)\n",
    "    print(\"Error:\", str(e))\n"
   ]
  },
  {
   "cell_type": "markdown",
   "id": "2132ec59",
   "metadata": {},
   "source": [
    "#### Answer: 3\n"
   ]
  },
  {
   "cell_type": "code",
   "execution_count": null,
   "id": "e56dc363",
   "metadata": {},
   "outputs": [
    {
     "name": "stdout",
     "output_type": "stream",
     "text": [
      "Collecting fastmcp\n",
      "  Using cached fastmcp-2.10.5-py3-none-any.whl.metadata (17 kB)\n",
      "Collecting authlib>=1.5.2 (from fastmcp)\n",
      "  Using cached authlib-1.6.0-py2.py3-none-any.whl.metadata (4.1 kB)\n",
      "Collecting cyclopts>=3.0.0 (from fastmcp)\n",
      "  Using cached cyclopts-3.22.2-py3-none-any.whl.metadata (11 kB)\n",
      "Collecting exceptiongroup>=1.2.2 (from fastmcp)\n",
      "  Using cached exceptiongroup-1.3.0-py3-none-any.whl.metadata (6.7 kB)\n",
      "Collecting httpx>=0.28.1 (from fastmcp)\n",
      "  Using cached httpx-0.28.1-py3-none-any.whl.metadata (7.1 kB)\n",
      "Collecting mcp>=1.10.0 (from fastmcp)\n",
      "  Using cached mcp-1.11.0-py3-none-any.whl.metadata (44 kB)\n",
      "Collecting openapi-pydantic>=0.5.1 (from fastmcp)\n",
      "  Using cached openapi_pydantic-0.5.1-py3-none-any.whl.metadata (10 kB)\n",
      "Requirement already satisfied: pydantic>=2.11.7 in c:\\users\\adi\\llm-zoomcamp\\.venv\\lib\\site-packages (from pydantic[email]>=2.11.7->fastmcp) (2.11.7)\n",
      "Collecting pyperclip>=1.9.0 (from fastmcp)\n",
      "  Using cached pyperclip-1.9.0-py3-none-any.whl\n",
      "Requirement already satisfied: python-dotenv>=1.1.0 in c:\\users\\adi\\llm-zoomcamp\\.venv\\lib\\site-packages (from fastmcp) (1.1.1)\n",
      "Collecting rich>=13.9.4 (from fastmcp)\n",
      "  Using cached rich-14.0.0-py3-none-any.whl.metadata (18 kB)\n",
      "Collecting cryptography (from authlib>=1.5.2->fastmcp)\n",
      "  Using cached cryptography-45.0.5-cp311-abi3-win_amd64.whl.metadata (5.7 kB)\n",
      "Collecting attrs>=23.1.0 (from cyclopts>=3.0.0->fastmcp)\n",
      "  Using cached attrs-25.3.0-py3-none-any.whl.metadata (10 kB)\n",
      "Collecting docstring-parser>=0.15 (from cyclopts>=3.0.0->fastmcp)\n",
      "  Using cached docstring_parser-0.16-py3-none-any.whl.metadata (3.0 kB)\n",
      "Collecting rich-rst<2.0.0,>=1.3.1 (from cyclopts>=3.0.0->fastmcp)\n",
      "  Using cached rich_rst-1.3.1-py3-none-any.whl.metadata (6.0 kB)\n",
      "Requirement already satisfied: typing-extensions>=4.6.0 in c:\\users\\adi\\llm-zoomcamp\\.venv\\lib\\site-packages (from exceptiongroup>=1.2.2->fastmcp) (4.14.1)\n",
      "Collecting anyio (from httpx>=0.28.1->fastmcp)\n",
      "  Using cached anyio-4.9.0-py3-none-any.whl.metadata (4.7 kB)\n",
      "Requirement already satisfied: certifi in c:\\users\\adi\\llm-zoomcamp\\.venv\\lib\\site-packages (from httpx>=0.28.1->fastmcp) (2025.7.14)\n",
      "Collecting httpcore==1.* (from httpx>=0.28.1->fastmcp)\n",
      "  Using cached httpcore-1.0.9-py3-none-any.whl.metadata (21 kB)\n",
      "Requirement already satisfied: idna in c:\\users\\adi\\llm-zoomcamp\\.venv\\lib\\site-packages (from httpx>=0.28.1->fastmcp) (3.10)\n",
      "Collecting h11>=0.16 (from httpcore==1.*->httpx>=0.28.1->fastmcp)\n",
      "  Using cached h11-0.16.0-py3-none-any.whl.metadata (8.3 kB)\n",
      "Collecting httpx-sse>=0.4 (from mcp>=1.10.0->fastmcp)\n",
      "  Using cached httpx_sse-0.4.1-py3-none-any.whl.metadata (9.4 kB)\n",
      "Collecting jsonschema>=4.20.0 (from mcp>=1.10.0->fastmcp)\n",
      "  Using cached jsonschema-4.24.0-py3-none-any.whl.metadata (7.8 kB)\n",
      "Collecting pydantic-settings>=2.5.2 (from mcp>=1.10.0->fastmcp)\n",
      "  Using cached pydantic_settings-2.10.1-py3-none-any.whl.metadata (3.4 kB)\n",
      "Collecting python-multipart>=0.0.9 (from mcp>=1.10.0->fastmcp)\n",
      "  Using cached python_multipart-0.0.20-py3-none-any.whl.metadata (1.8 kB)\n",
      "Requirement already satisfied: pywin32>=310 in c:\\users\\adi\\llm-zoomcamp\\.venv\\lib\\site-packages (from mcp>=1.10.0->fastmcp) (311)\n",
      "Collecting sse-starlette>=1.6.1 (from mcp>=1.10.0->fastmcp)\n",
      "  Using cached sse_starlette-2.4.1-py3-none-any.whl.metadata (10 kB)\n",
      "Collecting starlette>=0.27 (from mcp>=1.10.0->fastmcp)\n",
      "  Using cached starlette-0.47.1-py3-none-any.whl.metadata (6.2 kB)\n",
      "Collecting uvicorn>=0.23.1 (from mcp>=1.10.0->fastmcp)\n",
      "  Using cached uvicorn-0.35.0-py3-none-any.whl.metadata (6.5 kB)\n",
      "Requirement already satisfied: annotated-types>=0.6.0 in c:\\users\\adi\\llm-zoomcamp\\.venv\\lib\\site-packages (from pydantic>=2.11.7->pydantic[email]>=2.11.7->fastmcp) (0.7.0)\n",
      "Requirement already satisfied: pydantic-core==2.33.2 in c:\\users\\adi\\llm-zoomcamp\\.venv\\lib\\site-packages (from pydantic>=2.11.7->pydantic[email]>=2.11.7->fastmcp) (2.33.2)\n",
      "Requirement already satisfied: typing-inspection>=0.4.0 in c:\\users\\adi\\llm-zoomcamp\\.venv\\lib\\site-packages (from pydantic>=2.11.7->pydantic[email]>=2.11.7->fastmcp) (0.4.1)\n",
      "Collecting email-validator>=2.0.0 (from pydantic[email]>=2.11.7->fastmcp)\n",
      "  Using cached email_validator-2.2.0-py3-none-any.whl.metadata (25 kB)\n",
      "Collecting markdown-it-py>=2.2.0 (from rich>=13.9.4->fastmcp)\n",
      "  Using cached markdown_it_py-3.0.0-py3-none-any.whl.metadata (6.9 kB)\n",
      "Requirement already satisfied: pygments<3.0.0,>=2.13.0 in c:\\users\\adi\\llm-zoomcamp\\.venv\\lib\\site-packages (from rich>=13.9.4->fastmcp) (2.19.2)\n",
      "Collecting sniffio>=1.1 (from anyio->httpx>=0.28.1->fastmcp)\n",
      "  Using cached sniffio-1.3.1-py3-none-any.whl.metadata (3.9 kB)\n",
      "Collecting dnspython>=2.0.0 (from email-validator>=2.0.0->pydantic[email]>=2.11.7->fastmcp)\n",
      "  Using cached dnspython-2.7.0-py3-none-any.whl.metadata (5.8 kB)\n",
      "Collecting jsonschema-specifications>=2023.03.6 (from jsonschema>=4.20.0->mcp>=1.10.0->fastmcp)\n",
      "  Using cached jsonschema_specifications-2025.4.1-py3-none-any.whl.metadata (2.9 kB)\n",
      "Collecting referencing>=0.28.4 (from jsonschema>=4.20.0->mcp>=1.10.0->fastmcp)\n",
      "  Using cached referencing-0.36.2-py3-none-any.whl.metadata (2.8 kB)\n",
      "Collecting rpds-py>=0.7.1 (from jsonschema>=4.20.0->mcp>=1.10.0->fastmcp)\n",
      "  Using cached rpds_py-0.26.0-cp311-cp311-win_amd64.whl.metadata (4.3 kB)\n",
      "Collecting mdurl~=0.1 (from markdown-it-py>=2.2.0->rich>=13.9.4->fastmcp)\n",
      "  Using cached mdurl-0.1.2-py3-none-any.whl.metadata (1.6 kB)\n",
      "Collecting docutils (from rich-rst<2.0.0,>=1.3.1->cyclopts>=3.0.0->fastmcp)\n",
      "  Using cached docutils-0.21.2-py3-none-any.whl.metadata (2.8 kB)\n",
      "Collecting click>=7.0 (from uvicorn>=0.23.1->mcp>=1.10.0->fastmcp)\n",
      "  Using cached click-8.2.1-py3-none-any.whl.metadata (2.5 kB)\n",
      "Collecting cffi>=1.14 (from cryptography->authlib>=1.5.2->fastmcp)\n",
      "  Using cached cffi-1.17.1-cp311-cp311-win_amd64.whl.metadata (1.6 kB)\n",
      "Collecting pycparser (from cffi>=1.14->cryptography->authlib>=1.5.2->fastmcp)\n",
      "  Using cached pycparser-2.22-py3-none-any.whl.metadata (943 bytes)\n",
      "Requirement already satisfied: colorama in c:\\users\\adi\\llm-zoomcamp\\.venv\\lib\\site-packages (from click>=7.0->uvicorn>=0.23.1->mcp>=1.10.0->fastmcp) (0.4.6)\n",
      "Using cached fastmcp-2.10.5-py3-none-any.whl (201 kB)\n",
      "Using cached authlib-1.6.0-py2.py3-none-any.whl (239 kB)\n",
      "Using cached cyclopts-3.22.2-py3-none-any.whl (84 kB)\n",
      "Using cached exceptiongroup-1.3.0-py3-none-any.whl (16 kB)\n",
      "Using cached httpx-0.28.1-py3-none-any.whl (73 kB)\n",
      "Using cached httpcore-1.0.9-py3-none-any.whl (78 kB)\n",
      "Using cached mcp-1.11.0-py3-none-any.whl (155 kB)\n",
      "Using cached openapi_pydantic-0.5.1-py3-none-any.whl (96 kB)\n",
      "Using cached rich-14.0.0-py3-none-any.whl (243 kB)\n",
      "Using cached anyio-4.9.0-py3-none-any.whl (100 kB)\n",
      "Using cached attrs-25.3.0-py3-none-any.whl (63 kB)\n",
      "Using cached docstring_parser-0.16-py3-none-any.whl (36 kB)\n",
      "Using cached email_validator-2.2.0-py3-none-any.whl (33 kB)\n",
      "Using cached httpx_sse-0.4.1-py3-none-any.whl (8.1 kB)\n",
      "Using cached jsonschema-4.24.0-py3-none-any.whl (88 kB)\n",
      "Using cached markdown_it_py-3.0.0-py3-none-any.whl (87 kB)\n",
      "Using cached pydantic_settings-2.10.1-py3-none-any.whl (45 kB)\n",
      "Using cached python_multipart-0.0.20-py3-none-any.whl (24 kB)\n",
      "Using cached rich_rst-1.3.1-py3-none-any.whl (11 kB)\n",
      "Using cached sse_starlette-2.4.1-py3-none-any.whl (10 kB)\n",
      "Using cached starlette-0.47.1-py3-none-any.whl (72 kB)\n",
      "Using cached uvicorn-0.35.0-py3-none-any.whl (66 kB)\n",
      "Using cached cryptography-45.0.5-cp311-abi3-win_amd64.whl (3.4 MB)\n",
      "Using cached cffi-1.17.1-cp311-cp311-win_amd64.whl (181 kB)\n",
      "Using cached click-8.2.1-py3-none-any.whl (102 kB)\n",
      "Using cached dnspython-2.7.0-py3-none-any.whl (313 kB)\n",
      "Using cached h11-0.16.0-py3-none-any.whl (37 kB)\n",
      "Using cached jsonschema_specifications-2025.4.1-py3-none-any.whl (18 kB)\n",
      "Using cached mdurl-0.1.2-py3-none-any.whl (10.0 kB)\n",
      "Using cached referencing-0.36.2-py3-none-any.whl (26 kB)\n",
      "Using cached rpds_py-0.26.0-cp311-cp311-win_amd64.whl (231 kB)\n",
      "Using cached sniffio-1.3.1-py3-none-any.whl (10 kB)\n",
      "Using cached docutils-0.21.2-py3-none-any.whl (587 kB)\n",
      "Using cached pycparser-2.22-py3-none-any.whl (117 kB)\n",
      "Installing collected packages: pyperclip, sniffio, rpds-py, python-multipart, pycparser, mdurl, httpx-sse, h11, exceptiongroup, docutils, docstring-parser, dnspython, click, attrs, uvicorn, referencing, markdown-it-py, httpcore, email-validator, cffi, anyio, starlette, sse-starlette, rich, pydantic-settings, openapi-pydantic, jsonschema-specifications, httpx, cryptography, rich-rst, jsonschema, authlib, mcp, cyclopts, fastmcp\n",
      "Successfully installed anyio-4.9.0 attrs-25.3.0 authlib-1.6.0 cffi-1.17.1 click-8.2.1 cryptography-45.0.5 cyclopts-3.22.2 dnspython-2.7.0 docstring-parser-0.16 docutils-0.21.2 email-validator-2.2.0 exceptiongroup-1.3.0 fastmcp-2.10.5 h11-0.16.0 httpcore-1.0.9 httpx-0.28.1 httpx-sse-0.4.1 jsonschema-4.24.0 jsonschema-specifications-2025.4.1 markdown-it-py-3.0.0 mcp-1.11.0 mdurl-0.1.2 openapi-pydantic-0.5.1 pycparser-2.22 pydantic-settings-2.10.1 pyperclip-1.9.0 python-multipart-0.0.20 referencing-0.36.2 rich-14.0.0 rich-rst-1.3.1 rpds-py-0.26.0 sniffio-1.3.1 sse-starlette-2.4.1 starlette-0.47.1 uvicorn-0.35.0\n",
      "Note: you may need to restart the kernel to use updated packages.\n"
     ]
    },
    {
     "name": "stderr",
     "output_type": "stream",
     "text": [
      "\n",
      "[notice] A new release of pip is available: 24.0 -> 25.1.1\n",
      "[notice] To update, run: python.exe -m pip install --upgrade pip\n"
     ]
    }
   ],
   "source": [
    "#pip install fastmcp"
   ]
  },
  {
   "cell_type": "markdown",
   "id": "755c73af",
   "metadata": {},
   "source": [
    "#### Answer: 4"
   ]
  },
  {
   "cell_type": "code",
   "execution_count": 37,
   "id": "bba952ef",
   "metadata": {},
   "outputs": [],
   "source": [
    "# weather_mcp_server.py\n",
    "from fastmcp import FastMCP\n",
    "import random\n",
    "\n",
    "known_weather_data = {\"berlin\": 20.0}\n",
    "\n",
    "mcp = FastMCP(\"Weather MCP\")\n",
    "\n",
    "@mcp.tool\n",
    "def get_weather(city: str) -> float:\n",
    "    \"\"\"\n",
    "    Retrieves the temperature for a specified city.\n",
    "    \"\"\"\n",
    "    city = city.strip().lower()\n",
    "    return known_weather_data.get(city, round(random.uniform(-5, 35), 1))\n",
    "\n",
    "@mcp.tool\n",
    "def set_weather(city: str, temp: float) -> str:\n",
    "    \"\"\"\n",
    "    Sets the temperature for a specified city.\n",
    "    \"\"\"\n",
    "    city = city.strip().lower()\n",
    "    known_weather_data[city] = temp\n",
    "    return \"OK\"\n"
   ]
  },
  {
   "cell_type": "code",
   "execution_count": 38,
   "id": "6b5be1a6",
   "metadata": {},
   "outputs": [
    {
     "data": {
      "text/html": [
       "<pre style=\"white-space:pre;overflow-x:auto;line-height:normal;font-family:Menlo,'DejaVu Sans Mono',consolas,'Courier New',monospace\">\n",
       "\n",
       "<span style=\"color: #7f7f7f; text-decoration-color: #7f7f7f\">╭─ FastMCP 2.0 ──────────────────────────────────────────────────────────────╮</span>\n",
       "<span style=\"color: #7f7f7f; text-decoration-color: #7f7f7f\">│</span>                                                                            <span style=\"color: #7f7f7f; text-decoration-color: #7f7f7f\">│</span>\n",
       "<span style=\"color: #7f7f7f; text-decoration-color: #7f7f7f\">│</span>    <span style=\"color: #008000; text-decoration-color: #008000; font-weight: bold\">    _ __ ___ ______           __  __  _____________    ____    ____ </span>    <span style=\"color: #7f7f7f; text-decoration-color: #7f7f7f\">│</span>\n",
       "<span style=\"color: #7f7f7f; text-decoration-color: #7f7f7f\">│</span>    <span style=\"color: #008000; text-decoration-color: #008000; font-weight: bold\">   _ __ ___ / ____/___ ______/ /_/  |/  / ____/ __ \\  |___ \\  / __ \\</span>    <span style=\"color: #7f7f7f; text-decoration-color: #7f7f7f\">│</span>\n",
       "<span style=\"color: #7f7f7f; text-decoration-color: #7f7f7f\">│</span>    <span style=\"color: #008000; text-decoration-color: #008000; font-weight: bold\">  _ __ ___ / /_  / __ `/ ___/ __/ /|_/ / /   / /_/ /  ___/ / / / / /</span>    <span style=\"color: #7f7f7f; text-decoration-color: #7f7f7f\">│</span>\n",
       "<span style=\"color: #7f7f7f; text-decoration-color: #7f7f7f\">│</span>    <span style=\"color: #008000; text-decoration-color: #008000; font-weight: bold\"> _ __ ___ / __/ / /_/ (__  ) /_/ /  / / /___/ ____/  /  __/_/ /_/ / </span>    <span style=\"color: #7f7f7f; text-decoration-color: #7f7f7f\">│</span>\n",
       "<span style=\"color: #7f7f7f; text-decoration-color: #7f7f7f\">│</span>    <span style=\"color: #008000; text-decoration-color: #008000; font-weight: bold\">_ __ ___ /_/    \\__,_/____/\\__/_/  /_/\\____/_/      /_____(_)____/  </span>    <span style=\"color: #7f7f7f; text-decoration-color: #7f7f7f\">│</span>\n",
       "<span style=\"color: #7f7f7f; text-decoration-color: #7f7f7f\">│</span>                                                                            <span style=\"color: #7f7f7f; text-decoration-color: #7f7f7f\">│</span>\n",
       "<span style=\"color: #7f7f7f; text-decoration-color: #7f7f7f\">│</span>                                                                            <span style=\"color: #7f7f7f; text-decoration-color: #7f7f7f\">│</span>\n",
       "<span style=\"color: #7f7f7f; text-decoration-color: #7f7f7f\">│</span>                                                                            <span style=\"color: #7f7f7f; text-decoration-color: #7f7f7f\">│</span>\n",
       "<span style=\"color: #7f7f7f; text-decoration-color: #7f7f7f\">│</span>    <span style=\"font-weight: bold\">🖥️  </span><span style=\"color: #008080; text-decoration-color: #008080; font-weight: bold\">Server name:     </span><span style=\"color: #c0c0c0; text-decoration-color: #c0c0c0\">Weather MCP          </span>                               <span style=\"color: #7f7f7f; text-decoration-color: #7f7f7f\">│</span>\n",
       "<span style=\"color: #7f7f7f; text-decoration-color: #7f7f7f\">│</span>    <span style=\"font-weight: bold\">📦 </span><span style=\"color: #008080; text-decoration-color: #008080; font-weight: bold\">Transport:       </span><span style=\"color: #c0c0c0; text-decoration-color: #c0c0c0\">STDIO                </span>                               <span style=\"color: #7f7f7f; text-decoration-color: #7f7f7f\">│</span>\n",
       "<span style=\"color: #7f7f7f; text-decoration-color: #7f7f7f\">│</span>    <span style=\"font-weight: bold\">   </span><span style=\"color: #008080; text-decoration-color: #008080; font-weight: bold\">                 </span><span style=\"color: #c0c0c0; text-decoration-color: #c0c0c0\">                     </span>                               <span style=\"color: #7f7f7f; text-decoration-color: #7f7f7f\">│</span>\n",
       "<span style=\"color: #7f7f7f; text-decoration-color: #7f7f7f\">│</span>    <span style=\"font-weight: bold\">📚 </span><span style=\"color: #008080; text-decoration-color: #008080; font-weight: bold\">Docs:            </span><span style=\"color: #c0c0c0; text-decoration-color: #c0c0c0\">https://gofastmcp.com</span>                               <span style=\"color: #7f7f7f; text-decoration-color: #7f7f7f\">│</span>\n",
       "<span style=\"color: #7f7f7f; text-decoration-color: #7f7f7f\">│</span>    <span style=\"font-weight: bold\">🚀 </span><span style=\"color: #008080; text-decoration-color: #008080; font-weight: bold\">Deploy:          </span><span style=\"color: #c0c0c0; text-decoration-color: #c0c0c0\">https://fastmcp.cloud</span>                               <span style=\"color: #7f7f7f; text-decoration-color: #7f7f7f\">│</span>\n",
       "<span style=\"color: #7f7f7f; text-decoration-color: #7f7f7f\">│</span>    <span style=\"font-weight: bold\">   </span><span style=\"color: #008080; text-decoration-color: #008080; font-weight: bold\">                 </span><span style=\"color: #c0c0c0; text-decoration-color: #c0c0c0\">                     </span>                               <span style=\"color: #7f7f7f; text-decoration-color: #7f7f7f\">│</span>\n",
       "<span style=\"color: #7f7f7f; text-decoration-color: #7f7f7f\">│</span>    <span style=\"font-weight: bold\">🏎️  </span><span style=\"color: #008080; text-decoration-color: #008080; font-weight: bold\">FastMCP version: </span><span style=\"color: #dfdfdf; text-decoration-color: #dfdfdf\">2.10.5               </span>                               <span style=\"color: #7f7f7f; text-decoration-color: #7f7f7f\">│</span>\n",
       "<span style=\"color: #7f7f7f; text-decoration-color: #7f7f7f\">│</span>    <span style=\"font-weight: bold\">🤝 </span><span style=\"color: #008080; text-decoration-color: #008080; font-weight: bold\">MCP version:     </span><span style=\"color: #dfdfdf; text-decoration-color: #dfdfdf\">1.11.0               </span>                               <span style=\"color: #7f7f7f; text-decoration-color: #7f7f7f\">│</span>\n",
       "<span style=\"color: #7f7f7f; text-decoration-color: #7f7f7f\">│</span>                                                                            <span style=\"color: #7f7f7f; text-decoration-color: #7f7f7f\">│</span>\n",
       "<span style=\"color: #7f7f7f; text-decoration-color: #7f7f7f\">╰────────────────────────────────────────────────────────────────────────────╯</span>\n",
       "\n",
       "\n",
       "</pre>\n"
      ],
      "text/plain": [
       "\n",
       "\n",
       "\u001b[2m╭─\u001b[0m\u001b[2m FastMCP 2.0 \u001b[0m\u001b[2m─────────────────────────────────────────────────────────────\u001b[0m\u001b[2m─╮\u001b[0m\n",
       "\u001b[2m│\u001b[0m                                                                            \u001b[2m│\u001b[0m\n",
       "\u001b[2m│\u001b[0m    \u001b[1;32m    _ __ ___ ______           __  __  _____________    ____    ____ \u001b[0m    \u001b[2m│\u001b[0m\n",
       "\u001b[2m│\u001b[0m    \u001b[1;32m   _ __ ___ / ____/___ ______/ /_/  |/  / ____/ __ \\  |___ \\  / __ \\\u001b[0m    \u001b[2m│\u001b[0m\n",
       "\u001b[2m│\u001b[0m    \u001b[1;32m  _ __ ___ / /_  / __ `/ ___/ __/ /|_/ / /   / /_/ /  ___/ / / / / /\u001b[0m    \u001b[2m│\u001b[0m\n",
       "\u001b[2m│\u001b[0m    \u001b[1;32m _ __ ___ / __/ / /_/ (__  ) /_/ /  / / /___/ ____/  /  __/_/ /_/ / \u001b[0m    \u001b[2m│\u001b[0m\n",
       "\u001b[2m│\u001b[0m    \u001b[1;32m_ __ ___ /_/    \\__,_/____/\\__/_/  /_/\\____/_/      /_____(_)____/  \u001b[0m    \u001b[2m│\u001b[0m\n",
       "\u001b[2m│\u001b[0m                                                                            \u001b[2m│\u001b[0m\n",
       "\u001b[2m│\u001b[0m                                                                            \u001b[2m│\u001b[0m\n",
       "\u001b[2m│\u001b[0m                                                                            \u001b[2m│\u001b[0m\n",
       "\u001b[2m│\u001b[0m    \u001b[1m🖥️ \u001b[0m\u001b[1m \u001b[0m\u001b[1;36mServer name:    \u001b[0m\u001b[1;36m \u001b[0m\u001b[37mWeather MCP          \u001b[0m                               \u001b[2m│\u001b[0m\n",
       "\u001b[2m│\u001b[0m    \u001b[1m📦\u001b[0m\u001b[1m \u001b[0m\u001b[1;36mTransport:      \u001b[0m\u001b[1;36m \u001b[0m\u001b[37mSTDIO                \u001b[0m                               \u001b[2m│\u001b[0m\n",
       "\u001b[2m│\u001b[0m    \u001b[1m  \u001b[0m\u001b[1m \u001b[0m\u001b[1;36m                \u001b[0m\u001b[1;36m \u001b[0m\u001b[37m                     \u001b[0m                               \u001b[2m│\u001b[0m\n",
       "\u001b[2m│\u001b[0m    \u001b[1m📚\u001b[0m\u001b[1m \u001b[0m\u001b[1;36mDocs:           \u001b[0m\u001b[1;36m \u001b[0m\u001b[37mhttps://gofastmcp.com\u001b[0m                               \u001b[2m│\u001b[0m\n",
       "\u001b[2m│\u001b[0m    \u001b[1m🚀\u001b[0m\u001b[1m \u001b[0m\u001b[1;36mDeploy:         \u001b[0m\u001b[1;36m \u001b[0m\u001b[37mhttps://fastmcp.cloud\u001b[0m                               \u001b[2m│\u001b[0m\n",
       "\u001b[2m│\u001b[0m    \u001b[1m  \u001b[0m\u001b[1m \u001b[0m\u001b[1;36m                \u001b[0m\u001b[1;36m \u001b[0m\u001b[37m                     \u001b[0m                               \u001b[2m│\u001b[0m\n",
       "\u001b[2m│\u001b[0m    \u001b[1m🏎️ \u001b[0m\u001b[1m \u001b[0m\u001b[1;36mFastMCP version:\u001b[0m\u001b[1;36m \u001b[0m\u001b[2;37m2.10.5               \u001b[0m                               \u001b[2m│\u001b[0m\n",
       "\u001b[2m│\u001b[0m    \u001b[1m🤝\u001b[0m\u001b[1m \u001b[0m\u001b[1;36mMCP version:    \u001b[0m\u001b[1;36m \u001b[0m\u001b[2;37m1.11.0               \u001b[0m                               \u001b[2m│\u001b[0m\n",
       "\u001b[2m│\u001b[0m                                                                            \u001b[2m│\u001b[0m\n",
       "\u001b[2m╰────────────────────────────────────────────────────────────────────────────╯\u001b[0m\n",
       "\n",
       "\n"
      ]
     },
     "metadata": {},
     "output_type": "display_data"
    },
    {
     "ename": "AttributeError",
     "evalue": "'OutStream' object has no attribute 'buffer'",
     "output_type": "error",
     "traceback": [
      "\u001b[31m---------------------------------------------------------------------------\u001b[39m",
      "\u001b[31mAttributeError\u001b[39m                            Traceback (most recent call last)",
      "\u001b[36mCell\u001b[39m\u001b[36m \u001b[39m\u001b[32mIn[38]\u001b[39m\u001b[32m, line 1\u001b[39m\n\u001b[32m----> \u001b[39m\u001b[32m1\u001b[39m \u001b[38;5;28;01mawait\u001b[39;00m mcp.run_async()\n",
      "\u001b[36mFile \u001b[39m\u001b[32mc:\\Users\\Adi\\LLM-ZOOMCAMP\\.venv\\Lib\\site-packages\\fastmcp\\server\\server.py:303\u001b[39m, in \u001b[36mFastMCP.run_async\u001b[39m\u001b[34m(self, transport, show_banner, **transport_kwargs)\u001b[39m\n\u001b[32m    300\u001b[39m     \u001b[38;5;28;01mraise\u001b[39;00m \u001b[38;5;167;01mValueError\u001b[39;00m(\u001b[33mf\u001b[39m\u001b[33m\"\u001b[39m\u001b[33mUnknown transport: \u001b[39m\u001b[38;5;132;01m{\u001b[39;00mtransport\u001b[38;5;132;01m}\u001b[39;00m\u001b[33m\"\u001b[39m)\n\u001b[32m    302\u001b[39m \u001b[38;5;28;01mif\u001b[39;00m transport == \u001b[33m\"\u001b[39m\u001b[33mstdio\u001b[39m\u001b[33m\"\u001b[39m:\n\u001b[32m--> \u001b[39m\u001b[32m303\u001b[39m     \u001b[38;5;28;01mawait\u001b[39;00m \u001b[38;5;28mself\u001b[39m.run_stdio_async(\n\u001b[32m    304\u001b[39m         show_banner=show_banner,\n\u001b[32m    305\u001b[39m         **transport_kwargs,\n\u001b[32m    306\u001b[39m     )\n\u001b[32m    307\u001b[39m \u001b[38;5;28;01melif\u001b[39;00m transport \u001b[38;5;129;01min\u001b[39;00m {\u001b[33m\"\u001b[39m\u001b[33mhttp\u001b[39m\u001b[33m\"\u001b[39m, \u001b[33m\"\u001b[39m\u001b[33msse\u001b[39m\u001b[33m\"\u001b[39m, \u001b[33m\"\u001b[39m\u001b[33mstreamable-http\u001b[39m\u001b[33m\"\u001b[39m}:\n\u001b[32m    308\u001b[39m     \u001b[38;5;28;01mawait\u001b[39;00m \u001b[38;5;28mself\u001b[39m.run_http_async(\n\u001b[32m    309\u001b[39m         transport=transport,\n\u001b[32m    310\u001b[39m         show_banner=show_banner,\n\u001b[32m    311\u001b[39m         **transport_kwargs,\n\u001b[32m    312\u001b[39m     )\n",
      "\u001b[36mFile \u001b[39m\u001b[32mc:\\Users\\Adi\\LLM-ZOOMCAMP\\.venv\\Lib\\site-packages\\fastmcp\\server\\server.py:1370\u001b[39m, in \u001b[36mFastMCP.run_stdio_async\u001b[39m\u001b[34m(self, show_banner)\u001b[39m\n\u001b[32m   1364\u001b[39m \u001b[38;5;28;01mif\u001b[39;00m show_banner:\n\u001b[32m   1365\u001b[39m     log_server_banner(\n\u001b[32m   1366\u001b[39m         server=\u001b[38;5;28mself\u001b[39m,\n\u001b[32m   1367\u001b[39m         transport=\u001b[33m\"\u001b[39m\u001b[33mstdio\u001b[39m\u001b[33m\"\u001b[39m,\n\u001b[32m   1368\u001b[39m     )\n\u001b[32m-> \u001b[39m\u001b[32m1370\u001b[39m \u001b[38;5;28;01masync\u001b[39;00m \u001b[38;5;28;01mwith\u001b[39;00m stdio_server() \u001b[38;5;28;01mas\u001b[39;00m (read_stream, write_stream):\n\u001b[32m   1371\u001b[39m     logger.info(\u001b[33mf\u001b[39m\u001b[33m\"\u001b[39m\u001b[33mStarting MCP server \u001b[39m\u001b[38;5;132;01m{\u001b[39;00m\u001b[38;5;28mself\u001b[39m.name\u001b[38;5;132;01m!r}\u001b[39;00m\u001b[33m with transport \u001b[39m\u001b[33m'\u001b[39m\u001b[33mstdio\u001b[39m\u001b[33m'\u001b[39m\u001b[33m\"\u001b[39m)\n\u001b[32m   1372\u001b[39m     \u001b[38;5;28;01mawait\u001b[39;00m \u001b[38;5;28mself\u001b[39m._mcp_server.run(\n\u001b[32m   1373\u001b[39m         read_stream,\n\u001b[32m   1374\u001b[39m         write_stream,\n\u001b[32m   (...)\u001b[39m\u001b[32m   1377\u001b[39m         ),\n\u001b[32m   1378\u001b[39m     )\n",
      "\u001b[36mFile \u001b[39m\u001b[32m~\\AppData\\Local\\Programs\\Python\\Python311\\Lib\\contextlib.py:210\u001b[39m, in \u001b[36m_AsyncGeneratorContextManager.__aenter__\u001b[39m\u001b[34m(self)\u001b[39m\n\u001b[32m    208\u001b[39m \u001b[38;5;28;01mdel\u001b[39;00m \u001b[38;5;28mself\u001b[39m.args, \u001b[38;5;28mself\u001b[39m.kwds, \u001b[38;5;28mself\u001b[39m.func\n\u001b[32m    209\u001b[39m \u001b[38;5;28;01mtry\u001b[39;00m:\n\u001b[32m--> \u001b[39m\u001b[32m210\u001b[39m     \u001b[38;5;28;01mreturn\u001b[39;00m \u001b[38;5;28;01mawait\u001b[39;00m anext(\u001b[38;5;28mself\u001b[39m.gen)\n\u001b[32m    211\u001b[39m \u001b[38;5;28;01mexcept\u001b[39;00m \u001b[38;5;167;01mStopAsyncIteration\u001b[39;00m:\n\u001b[32m    212\u001b[39m     \u001b[38;5;28;01mraise\u001b[39;00m \u001b[38;5;167;01mRuntimeError\u001b[39;00m(\u001b[33m\"\u001b[39m\u001b[33mgenerator didn\u001b[39m\u001b[33m'\u001b[39m\u001b[33mt yield\u001b[39m\u001b[33m\"\u001b[39m) \u001b[38;5;28;01mfrom\u001b[39;00m\u001b[38;5;250m \u001b[39m\u001b[38;5;28;01mNone\u001b[39;00m\n",
      "\u001b[36mFile \u001b[39m\u001b[32mc:\\Users\\Adi\\LLM-ZOOMCAMP\\.venv\\Lib\\site-packages\\mcp\\server\\stdio.py:49\u001b[39m, in \u001b[36mstdio_server\u001b[39m\u001b[34m(stdin, stdout)\u001b[39m\n\u001b[32m     47\u001b[39m     stdin = anyio.wrap_file(TextIOWrapper(sys.stdin.buffer, encoding=\u001b[33m\"\u001b[39m\u001b[33mutf-8\u001b[39m\u001b[33m\"\u001b[39m))\n\u001b[32m     48\u001b[39m \u001b[38;5;28;01mif\u001b[39;00m \u001b[38;5;129;01mnot\u001b[39;00m stdout:\n\u001b[32m---> \u001b[39m\u001b[32m49\u001b[39m     stdout = anyio.wrap_file(TextIOWrapper(\u001b[43msys\u001b[49m\u001b[43m.\u001b[49m\u001b[43mstdout\u001b[49m\u001b[43m.\u001b[49m\u001b[43mbuffer\u001b[49m, encoding=\u001b[33m\"\u001b[39m\u001b[33mutf-8\u001b[39m\u001b[33m\"\u001b[39m))\n\u001b[32m     51\u001b[39m read_stream: MemoryObjectReceiveStream[SessionMessage | \u001b[38;5;167;01mException\u001b[39;00m]\n\u001b[32m     52\u001b[39m read_stream_writer: MemoryObjectSendStream[SessionMessage | \u001b[38;5;167;01mException\u001b[39;00m]\n",
      "\u001b[31mAttributeError\u001b[39m: 'OutStream' object has no attribute 'buffer'"
     ]
    }
   ],
   "source": [
    "await mcp.run_async()"
   ]
  }
 ],
 "metadata": {
  "kernelspec": {
   "display_name": ".venv",
   "language": "python",
   "name": "python3"
  },
  "language_info": {
   "codemirror_mode": {
    "name": "ipython",
    "version": 3
   },
   "file_extension": ".py",
   "mimetype": "text/x-python",
   "name": "python",
   "nbconvert_exporter": "python",
   "pygments_lexer": "ipython3",
   "version": "3.11.9"
  }
 },
 "nbformat": 4,
 "nbformat_minor": 5
}
