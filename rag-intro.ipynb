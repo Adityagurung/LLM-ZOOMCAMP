{
 "cells": [
  {
   "cell_type": "code",
   "execution_count": 75,
   "id": "af99759a-b8dc-4421-8782-efe67dbdc8a9",
   "metadata": {},
   "outputs": [
    {
     "name": "stdout",
     "output_type": "stream",
     "text": [
      "download successfull\n"
     ]
    }
   ],
   "source": [
    "import urllib.request\n",
    "\n",
    "url = \"https://raw.githubusercontent.com/alexeygrigorev/minsearch/main/minsearch.py\"\n",
    "urllib.request.urlretrieve(url, \"minsearch.py\")\n",
    "print(\"download successfull\")"
   ]
  },
  {
   "cell_type": "code",
   "execution_count": 76,
   "id": "6ef229de-58fd-4399-b27a-840886a09cf6",
   "metadata": {},
   "outputs": [],
   "source": [
    "from dotenv import load_dotenv\n",
    "import os"
   ]
  },
  {
   "cell_type": "code",
   "execution_count": 77,
   "id": "f4fb0909-3a91-412b-9a06-349bb8814e96",
   "metadata": {},
   "outputs": [],
   "source": [
    "from google import genai"
   ]
  },
  {
   "cell_type": "code",
   "execution_count": 78,
   "id": "adccb1e3-509d-4c82-90e2-59986f8930e0",
   "metadata": {},
   "outputs": [],
   "source": [
    "import minsearch"
   ]
  },
  {
   "cell_type": "code",
   "execution_count": 79,
   "id": "b1332b04-1c38-401f-bb3b-7f88264d38e9",
   "metadata": {},
   "outputs": [],
   "source": [
    "import json"
   ]
  },
  {
   "cell_type": "code",
   "execution_count": 80,
   "id": "4f03933d-b94e-4c9f-9e6c-7c95d9ca2b8a",
   "metadata": {},
   "outputs": [],
   "source": [
    "with open('documents.json','rt') as f_in:\n",
    "    docs_raw = json.load(f_in)"
   ]
  },
  {
   "cell_type": "code",
   "execution_count": 1,
   "id": "f2236d58-fa06-4d30-9889-455759024b70",
   "metadata": {},
   "outputs": [],
   "source": [
    "#docs_raw"
   ]
  },
  {
   "cell_type": "code",
   "execution_count": 82,
   "id": "c3d532fc-254d-42d0-a5f0-cda3c34914ed",
   "metadata": {},
   "outputs": [],
   "source": [
    "documents = []\n",
    "\n",
    "for course_dict in docs_raw:\n",
    "    for doc in course_dict['documents']:\n",
    "        doc['course'] = course_dict['course']\n",
    "        documents.append(doc)"
   ]
  },
  {
   "cell_type": "code",
   "execution_count": 83,
   "id": "216b2496-f0e7-4ebc-8c23-ea76f61a1185",
   "metadata": {},
   "outputs": [
    {
     "data": {
      "text/plain": [
       "{'text': \"The purpose of this document is to capture frequently asked technical questions\\nThe exact day and hour of the course will be 15th Jan 2024 at 17h00. The course will start with the first  “Office Hours'' live.1\\nSubscribe to course public Google Calendar (it works from Desktop only).\\nRegister before the course starts using this link.\\nJoin the course Telegram channel with announcements.\\nDon’t forget to register in DataTalks.Club's Slack and join the channel.\",\n",
       " 'section': 'General course-related questions',\n",
       " 'question': 'Course - When will the course start?',\n",
       " 'course': 'data-engineering-zoomcamp'}"
      ]
     },
     "execution_count": 83,
     "metadata": {},
     "output_type": "execute_result"
    }
   ],
   "source": [
    "documents[0]"
   ]
  },
  {
   "cell_type": "code",
   "execution_count": 84,
   "id": "6d49c1c0-e4b0-4108-8072-1993242013a7",
   "metadata": {},
   "outputs": [],
   "source": [
    "index = minsearch.Index(\n",
    "    text_fields = [\"question\",\"text\",\"section\"],\n",
    "    keyword_fields = [\"course\"]\n",
    ")"
   ]
  },
  {
   "cell_type": "code",
   "execution_count": 85,
   "id": "6cc22f35-bf63-494d-b1ab-e8a4f46a5108",
   "metadata": {},
   "outputs": [],
   "source": [
    "q = 'the course is already started can I join now?'"
   ]
  },
  {
   "cell_type": "code",
   "execution_count": 86,
   "id": "7b93bfb8-6874-40f5-afcb-e3d6cdb2d301",
   "metadata": {},
   "outputs": [
    {
     "data": {
      "text/plain": [
       "<minsearch.Index at 0x2000e8c9190>"
      ]
     },
     "execution_count": 86,
     "metadata": {},
     "output_type": "execute_result"
    }
   ],
   "source": [
    "index.fit(documents)"
   ]
  },
  {
   "cell_type": "code",
   "execution_count": 87,
   "id": "522f68bc-490d-44a4-9c6d-6c919158cd87",
   "metadata": {},
   "outputs": [],
   "source": [
    "#results"
   ]
  },
  {
   "cell_type": "code",
   "execution_count": 88,
   "id": "c7bd2b65-6e0c-4c37-9007-22f6fd6eb011",
   "metadata": {},
   "outputs": [],
   "source": [
    "load_dotenv()  # Loads variables from .env file\n",
    "API_KEY = os.getenv(\"GEMINI_API_KEY\")\n",
    "#print(API_KEY)\n"
   ]
  },
  {
   "cell_type": "code",
   "execution_count": 89,
   "id": "40e46d6b-a365-419d-9150-fd866439aa22",
   "metadata": {},
   "outputs": [],
   "source": [
    "client = genai.Client(api_key=API_KEY)\n",
    "\n",
    "responses = client.models.generate_content(\n",
    "    model=\"gemini-2.0-flash\", contents=q\n",
    ")"
   ]
  },
  {
   "cell_type": "code",
   "execution_count": 90,
   "id": "c87967e5-e125-4867-b6f5-1c9b551fd3de",
   "metadata": {},
   "outputs": [
    {
     "data": {
      "text/plain": [
       "\"Whether you can join a course that has already started depends on a few factors:\\n\\n*   **The course provider's policy:** Some courses have strict deadlines for enrollment, while others are more flexible. Check the course website or contact the instructor/administrator to find out their specific policy.\\n*   **The nature of the course:** Some courses are structured in a way that makes it difficult to catch up if you start late. Others are more self-paced and allow you to jump in at any time.\\n*   **How far along the course is:** If the course has just started, it may be easier to catch up than if it's already halfway through.\\n*   **Your ability to catch up:** Consider how much time and effort you're willing to put in to catch up on any missed material.\\n\\nHere's what I recommend you do:\\n\\n1.  **Find the course website or contact information:** Look for the official website of the course or the contact details of the instructor or administrator.\\n2.  **Contact the instructor/administrator:** Explain your situation and ask if it's possible to join the course now. Be sure to mention:\\n    *   The course name\\n    *   When it started\\n    *   Why you're interested in joining\\n    *   Your willingness to catch up on missed material\\n3.  **Ask about missed materials:** If they allow you to join, ask how you can access any materials you've missed, such as lecture recordings, assignments, or readings.\\n4.  **Assess your ability to catch up:** Based on the amount of material you've missed and your own learning style, decide if you're confident you can catch up and succeed in the course.\\n\\nGood luck!\""
      ]
     },
     "execution_count": 90,
     "metadata": {},
     "output_type": "execute_result"
    }
   ],
   "source": [
    "responses.text"
   ]
  },
  {
   "cell_type": "code",
   "execution_count": null,
   "id": "64e1864b-c0b0-4977-a54d-e31bf3a3af33",
   "metadata": {},
   "outputs": [],
   "source": [
    "def search(query):\n",
    "    boost = {'question': 3.0, 'section': 0.5}\n",
    "\n",
    "    results = index.search(\n",
    "        query=query,\n",
    "        filter_dict={'course': 'data-engineering-zoomcamp'},\n",
    "        boost_dict=boost,\n",
    "        num_results=5\n",
    "    )\n",
    "\n",
    "    return results"
   ]
  },
  {
   "cell_type": "code",
   "execution_count": 92,
   "id": "9d5d5b48-d2b1-46c9-8314-b6eb52693e14",
   "metadata": {},
   "outputs": [],
   "source": [
    "def build_prompt(query, search_results):\n",
    "    prompt_template = \"\"\"\n",
    "You're a course teaching assistant. Answer the QUESTION based on the CONTEXT from the FAQ database.\n",
    "Use only the facts from the CONTEXT when answering the QUESTION.\n",
    "\n",
    "QUESTION: {question}\n",
    "\n",
    "CONTEXT: \n",
    "{context}\n",
    "\"\"\".strip()\n",
    "\n",
    "    context = \"\"\n",
    "    \n",
    "    for doc in search_results:\n",
    "        context = context + f\"section: {doc['section']}\\nquestion: {doc['question']}\\nanswer: {doc['text']}\\n\\n\"\n",
    "    \n",
    "    prompt = prompt_template.format(question=query, context=context).strip()\n",
    "    return prompt"
   ]
  },
  {
   "cell_type": "code",
   "execution_count": 93,
   "id": "174948e0-868e-464b-9681-2f282fa0bc85",
   "metadata": {},
   "outputs": [],
   "source": [
    "def llm(prompt):\n",
    "    client = genai.Client(api_key=API_KEY)\n",
    "    responses = client.models.generate_content(\n",
    "        model=\"gemini-2.0-flash\", contents=prompt)\n",
    "    return responses"
   ]
  },
  {
   "cell_type": "code",
   "execution_count": 94,
   "id": "6e5fea74-6ec0-4912-8500-2dff31ea4e6a",
   "metadata": {},
   "outputs": [],
   "source": [
    "query = \"How do I run Kafka?\"\n",
    "\n",
    "def rag(query):\n",
    "    search_results = search(query)\n",
    "    prompt = build_prompt(query, search_results)\n",
    "    answer = llm(prompt)\n",
    "    return answer.text"
   ]
  },
  {
   "cell_type": "code",
   "execution_count": 95,
   "id": "fe8c4e2e-f0d9-4b0b-9868-7dd688d8d09b",
   "metadata": {},
   "outputs": [
    {
     "name": "stdout",
     "output_type": "stream",
     "text": [
      "There are a few ways to run Kafka, depending on the language you're using:\n",
      "\n",
      "*   **Java:** In the project directory, run: `java -cp build/libs/<jar_name>-1.0-SNAPSHOT.jar:out src/main/java/org/example/JsonProducer.java`\n",
      "*   **Python:**\n",
      "    1.  Create a virtual environment and run `requirements.txt` in that environment.\n",
      "    2.  To create a virtual env and install packages (run only once):\n",
      "        ```\n",
      "        python -m venv env\n",
      "        source env/bin/activate\n",
      "        pip install -r ../requirements.txt\n",
      "        ```\n",
      "    3.  To activate it (you'll need to run it every time you need the virtual env):\n",
      "        ```\n",
      "        source env/bin/activate\n",
      "        ```\n",
      "    4.  To deactivate it:\n",
      "        ```\n",
      "        deactivate\n",
      "        ```\n",
      "\n",
      "    *   The path for activating the virtual environment on Windows is `env/Scripts/activate`.\n",
      "    *   The virtual environment should be created only to run the python file and the Docker images should be running first.\n",
      "*   If you encounter a \"Permission denied\" error when running `./build.sh`, run `chmod +x build.sh` in the `/docker/spark` directory.\n",
      "*   If you encounter a \"ModuleNotFoundError: No module named 'kafka.vendor.six.moves'\", use `pip install kafka-python-ng` instead.\n"
     ]
    }
   ],
   "source": [
    "result = rag(query)\n",
    "print(result)"
   ]
  },
  {
   "cell_type": "code",
   "execution_count": 96,
   "id": "398a74dd-ac70-48c5-88ed-f0898fcdf947",
   "metadata": {},
   "outputs": [
    {
     "data": {
      "text/plain": [
       "{'text': \"The purpose of this document is to capture frequently asked technical questions\\nThe exact day and hour of the course will be 15th Jan 2024 at 17h00. The course will start with the first  “Office Hours'' live.1\\nSubscribe to course public Google Calendar (it works from Desktop only).\\nRegister before the course starts using this link.\\nJoin the course Telegram channel with announcements.\\nDon’t forget to register in DataTalks.Club's Slack and join the channel.\",\n",
       " 'section': 'General course-related questions',\n",
       " 'question': 'Course - When will the course start?',\n",
       " 'course': 'data-engineering-zoomcamp'}"
      ]
     },
     "execution_count": 96,
     "metadata": {},
     "output_type": "execute_result"
    }
   ],
   "source": [
    "documents[0]"
   ]
  },
  {
   "cell_type": "code",
   "execution_count": 97,
   "id": "2f0906e0-de93-4f5a-a17a-af0bb945d224",
   "metadata": {},
   "outputs": [],
   "source": [
    "from elasticsearch import Elasticsearch"
   ]
  },
  {
   "cell_type": "code",
   "execution_count": 98,
   "id": "511c54c8-63ab-4528-a8c6-4ac0a3a5375f",
   "metadata": {},
   "outputs": [],
   "source": [
    "es_client = Elasticsearch('http://localhost:9200')"
   ]
  },
  {
   "cell_type": "code",
   "execution_count": 99,
   "id": "a6f1b8c9-bd2a-4d0d-a34b-074ece565bd8",
   "metadata": {},
   "outputs": [
    {
     "data": {
      "text/plain": [
       "ObjectApiResponse({'name': 'fd1b4ee9e246', 'cluster_name': 'docker-cluster', 'cluster_uuid': '0vxnMo5AQpiGSA8DrsNJ_Q', 'version': {'number': '8.4.3', 'build_flavor': 'default', 'build_type': 'docker', 'build_hash': '42f05b9372a9a4a470db3b52817899b99a76ee73', 'build_date': '2022-10-04T07:17:24.662462378Z', 'build_snapshot': False, 'lucene_version': '9.3.0', 'minimum_wire_compatibility_version': '7.17.0', 'minimum_index_compatibility_version': '7.0.0'}, 'tagline': 'You Know, for Search'})"
      ]
     },
     "execution_count": 99,
     "metadata": {},
     "output_type": "execute_result"
    }
   ],
   "source": [
    "es_client.info()"
   ]
  },
  {
   "cell_type": "code",
   "execution_count": null,
   "id": "f913a70a-a8b0-432c-aac5-a853ab028b16",
   "metadata": {},
   "outputs": [],
   "source": [
    "index_settings = {\n",
    "    \"settings\": {\n",
    "        \"number_of_shards\": 1,\n",
    "        \"number_of_replicas\": 0\n",
    "    },\n",
    "    \"mappings\": {\n",
    "        \"properties\": {\n",
    "            \"text\": {\"type\": \"text\"},\n",
    "            \"section\": {\"type\": \"text\"},\n",
    "            \"question\": {\"type\": \"text\"},\n",
    "            \"course\": {\"type\": \"keyword\"} \n",
    "        }\n",
    "    }\n",
    "}\n",
    "\n",
    "index_name = \"course-questions\"\n",
    "\n",
    "es_client.indices.create(index=index_name, body=index_settings)"
   ]
  },
  {
   "cell_type": "code",
   "execution_count": 101,
   "id": "5cb6b7e7-d4e1-40cf-9eac-c5ccd9a0bdbb",
   "metadata": {},
   "outputs": [
    {
     "data": {
      "text/plain": [
       "{'text': \"The purpose of this document is to capture frequently asked technical questions\\nThe exact day and hour of the course will be 15th Jan 2024 at 17h00. The course will start with the first  “Office Hours'' live.1\\nSubscribe to course public Google Calendar (it works from Desktop only).\\nRegister before the course starts using this link.\\nJoin the course Telegram channel with announcements.\\nDon’t forget to register in DataTalks.Club's Slack and join the channel.\",\n",
       " 'section': 'General course-related questions',\n",
       " 'question': 'Course - When will the course start?',\n",
       " 'course': 'data-engineering-zoomcamp'}"
      ]
     },
     "execution_count": 101,
     "metadata": {},
     "output_type": "execute_result"
    }
   ],
   "source": [
    "documents[0]"
   ]
  },
  {
   "cell_type": "code",
   "execution_count": 102,
   "id": "735c0534-c866-475e-b6bd-7b813976542a",
   "metadata": {},
   "outputs": [],
   "source": [
    "from tqdm.auto import tqdm"
   ]
  },
  {
   "cell_type": "code",
   "execution_count": 103,
   "id": "d53fec54-7390-4e65-b588-dc2b1c368849",
   "metadata": {},
   "outputs": [
    {
     "data": {
      "application/vnd.jupyter.widget-view+json": {
       "model_id": "526c2a250f41414b81c92ebdeeb1e924",
       "version_major": 2,
       "version_minor": 0
      },
      "text/plain": [
       "  0%|          | 0/948 [00:00<?, ?it/s]"
      ]
     },
     "metadata": {},
     "output_type": "display_data"
    }
   ],
   "source": [
    "for doc in tqdm(documents):\n",
    "    es_client.index(index=index_name, document=doc)"
   ]
  },
  {
   "cell_type": "code",
   "execution_count": 108,
   "id": "020dc424-8a60-472d-affa-faca84270f70",
   "metadata": {},
   "outputs": [],
   "source": [
    "query = 'I just discovered the course. Can I still join it?'"
   ]
  },
  {
   "cell_type": "code",
   "execution_count": 109,
   "id": "085a406a-2002-419c-83f5-72bbd9c14947",
   "metadata": {},
   "outputs": [],
   "source": [
    "def elastic_search(query):\n",
    "    search_query = {\n",
    "        \"size\": 5,\n",
    "        \"query\": {\n",
    "            \"bool\": {\n",
    "                \"must\": {\n",
    "                    \"multi_match\": {\n",
    "                        \"query\": query,\n",
    "                        \"fields\": [\"question^3\", \"text\", \"section\"],\n",
    "                        \"type\": \"best_fields\"\n",
    "                    }\n",
    "                },\n",
    "                \"filter\": {\n",
    "                    \"term\": {\n",
    "                        \"course\": \"data-engineering-zoomcamp\"\n",
    "                    }\n",
    "                }\n",
    "            }\n",
    "        }\n",
    "    }\n",
    "\n",
    "    response = es_client.search(index=index_name, body=search_query)\n",
    "    \n",
    "    result_docs = [] \n",
    "    \n",
    "    for hit in response['hits']['hits']:\n",
    "        result_docs.append(hit['_source'])\n",
    "    \n",
    "    return result_docs\n"
   ]
  },
  {
   "cell_type": "code",
   "execution_count": 110,
   "id": "ed932dd8-c934-40c7-9354-e3120095049a",
   "metadata": {},
   "outputs": [],
   "source": [
    "def rag(query):\n",
    "    search_results = elastic_search(query)\n",
    "    prompt = build_prompt(query, search_results)\n",
    "    answer = llm(prompt)\n",
    "    return answer.text"
   ]
  },
  {
   "cell_type": "code",
   "execution_count": 111,
   "id": "76e0858d-0ce6-4903-a976-3f06873da839",
   "metadata": {},
   "outputs": [
    {
     "data": {
      "text/plain": [
       "\"Yes, even if you don't register, you're still eligible to submit the homeworks. Be aware, however, that there will be deadlines for turning in the final projects, so don't leave everything for the last minute.\\n\""
      ]
     },
     "execution_count": 111,
     "metadata": {},
     "output_type": "execute_result"
    }
   ],
   "source": [
    "rag(query)"
   ]
  }
 ],
 "metadata": {
  "kernelspec": {
   "display_name": "Python 3",
   "language": "python",
   "name": "python3"
  },
  "language_info": {
   "codemirror_mode": {
    "name": "ipython",
    "version": 3
   },
   "file_extension": ".py",
   "mimetype": "text/x-python",
   "name": "python",
   "nbconvert_exporter": "python",
   "pygments_lexer": "ipython3",
   "version": "3.11.9"
  }
 },
 "nbformat": 4,
 "nbformat_minor": 5
}
