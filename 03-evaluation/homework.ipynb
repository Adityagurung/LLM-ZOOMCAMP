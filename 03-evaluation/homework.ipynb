{
 "cells": [
  {
   "cell_type": "code",
   "execution_count": null,
   "id": "d5c1c960",
   "metadata": {},
   "outputs": [],
   "source": [
    "import requests\n",
    "import pandas as pd\n",
    "import numpy as np\n",
    "import minsearch"
   ]
  },
  {
   "cell_type": "code",
   "execution_count": 20,
   "id": "614e6574",
   "metadata": {},
   "outputs": [],
   "source": [
    "url_prefix = 'https://raw.githubusercontent.com/DataTalksClub/llm-zoomcamp/main/03-evaluation/'\n",
    "docs_url = url_prefix + 'search_evaluation/documents-with-ids.json'\n",
    "documents = requests.get(docs_url).json()\n",
    "\n",
    "ground_truth_url = url_prefix + 'search_evaluation/ground-truth-data.csv'\n",
    "df_ground_truth = pd.read_csv(ground_truth_url)\n",
    "ground_truth = df_ground_truth.to_dict(orient='records')"
   ]
  },
  {
   "cell_type": "code",
   "execution_count": 21,
   "id": "7627759d",
   "metadata": {},
   "outputs": [],
   "source": [
    "from tqdm.auto import tqdm\n",
    "\n",
    "def hit_rate(relevance_total): # Define hitrate evaluation function\n",
    "    cnt = 0\n",
    "\n",
    "    for line in relevance_total:\n",
    "        if True in line:\n",
    "            cnt = cnt + 1\n",
    "\n",
    "    return cnt / len(relevance_total)\n",
    "\n",
    "def mrr(relevance_total):\n",
    "    total_score = 0.0\n",
    "\n",
    "    for line in relevance_total:\n",
    "        for rank in range(len(line)):\n",
    "            if line[rank] == True:\n",
    "                total_score = total_score + 1 / (rank + 1)\n",
    "\n",
    "    return total_score / len(relevance_total)\n",
    "\n",
    "def evaluate(ground_truth, search_function):\n",
    "    relevance_total = []\n",
    "\n",
    "    for q in tqdm(ground_truth):\n",
    "        doc_id = q['document']\n",
    "        results = search_function(q)\n",
    "        relevance = [d['id'] == doc_id for d in results]\n",
    "        relevance_total.append(relevance)\n",
    "\n",
    "    return {\n",
    "        'hit_rate': hit_rate(relevance_total),\n",
    "        'mrr': mrr(relevance_total),\n",
    "    }"
   ]
  },
  {
   "cell_type": "markdown",
   "id": "8fea2eca",
   "metadata": {},
   "source": [
    "### Answer:1 "
   ]
  },
  {
   "cell_type": "code",
   "execution_count": 9,
   "id": "2b0a90bd",
   "metadata": {},
   "outputs": [
    {
     "data": {
      "text/plain": [
       "<minsearch.Index at 0x183db92f250>"
      ]
     },
     "execution_count": 9,
     "metadata": {},
     "output_type": "execute_result"
    }
   ],
   "source": [
    "# Create the Minsearch index with specified text and keyword fields\n",
    "index = minsearch.Index(\n",
    "    text_fields=[\"question\", \"section\", \"text\"],\n",
    "    keyword_fields=[\"course\", \"id\"]\n",
    ")\n",
    "\n",
    "index.fit(documents)"
   ]
  },
  {
   "cell_type": "code",
   "execution_count": 10,
   "id": "99f8f629",
   "metadata": {},
   "outputs": [],
   "source": [
    "# Define boosting parameters as specified\n",
    "boost = {'question': 1.5, 'section': 0.1}"
   ]
  },
  {
   "cell_type": "code",
   "execution_count": 11,
   "id": "6a712644",
   "metadata": {},
   "outputs": [],
   "source": [
    "# Define the search function that uses boosting and filters by course\n",
    "def minsearch_search(query, course):\n",
    "    results = index.search(\n",
    "        query=query,\n",
    "        filter_dict={'course': course},\n",
    "        boost_dict=boost,\n",
    "        num_results=5\n",
    "    )\n",
    "    return results"
   ]
  },
  {
   "cell_type": "code",
   "execution_count": 12,
   "id": "ba3f0a8c",
   "metadata": {},
   "outputs": [
    {
     "data": {
      "application/vnd.jupyter.widget-view+json": {
       "model_id": "22614512bd1549c9815e80fa3d1e8e79",
       "version_major": 2,
       "version_minor": 0
      },
      "text/plain": [
       "  0%|          | 0/4627 [00:00<?, ?it/s]"
      ]
     },
     "metadata": {},
     "output_type": "display_data"
    }
   ],
   "source": [
    "# Evaluate hitrate over all queries in ground truth\n",
    "relevance_total = []\n",
    "for q in tqdm(ground_truth):\n",
    "    doc_id = q['document']\n",
    "    results = minsearch_search(query=q['question'], course=q['course'])\n",
    "    relevance = [d['id'] == doc_id for d in results]\n",
    "    relevance_total.append(relevance)"
   ]
  },
  {
   "cell_type": "code",
   "execution_count": 13,
   "id": "b412a2d5",
   "metadata": {},
   "outputs": [
    {
     "name": "stdout",
     "output_type": "stream",
     "text": [
      "Minsearch hitrate (with boost): 0.848714069591528\n"
     ]
    }
   ],
   "source": [
    "hit = hit_rate(relevance_total)\n",
    "print(\"Minsearch hitrate (with boost):\", hit)"
   ]
  },
  {
   "cell_type": "markdown",
   "id": "34262326",
   "metadata": {},
   "source": [
    "### Answer:2"
   ]
  },
  {
   "cell_type": "code",
   "execution_count": 21,
   "id": "808b018d",
   "metadata": {},
   "outputs": [
    {
     "data": {
      "application/vnd.jupyter.widget-view+json": {
       "model_id": "37a6ed75fb97476ab133174c59f93538",
       "version_major": 2,
       "version_minor": 0
      },
      "text/plain": [
       "  0%|          | 0/4627 [00:00<?, ?it/s]"
      ]
     },
     "metadata": {},
     "output_type": "display_data"
    },
    {
     "name": "stdout",
     "output_type": "stream",
     "text": [
      "MRR (Vector Search, question field): 0.35673582594913916\n"
     ]
    }
   ],
   "source": [
    "import requests\n",
    "import pandas as pd\n",
    "from tqdm.auto import tqdm\n",
    "from sklearn.feature_extraction.text import TfidfVectorizer\n",
    "from sklearn.decomposition import TruncatedSVD\n",
    "from sklearn.pipeline import make_pipeline\n",
    "import numpy as np\n",
    "import minsearch  # Your minsearch.py containing Index class\n",
    "\n",
    "# Load data\n",
    "url_prefix = 'https://raw.githubusercontent.com/DataTalksClub/llm-zoomcamp/main/03-evaluation/'\n",
    "documents = requests.get(url_prefix + 'search_evaluation/documents-with-ids.json').json()\n",
    "df_ground_truth = pd.read_csv(url_prefix + 'search_evaluation/ground-truth-data.csv')\n",
    "ground_truth = df_ground_truth.to_dict(orient='records')\n",
    "\n",
    "# Create embeddings\n",
    "texts = [doc['question'] for doc in documents]\n",
    "pipeline = make_pipeline(\n",
    "    TfidfVectorizer(min_df=3),\n",
    "    TruncatedSVD(n_components=128, random_state=1)\n",
    ")\n",
    "X = pipeline.fit_transform(texts)\n",
    "\n",
    "# Build index and inject embeddings\n",
    "index = minsearch.Index(text_fields=[], keyword_fields=['course', 'id'])\n",
    "index.docs = documents\n",
    "index.keyword_df = pd.DataFrame({field: [doc.get(field, '') for doc in documents] for field in index.keyword_fields})\n",
    "index.embeddings = X  # Add embeddings attribute\n",
    "\n",
    "def vector_search(idx, query_vec, filter_dict={}, num_results=5):\n",
    "    def cosine_similarity(a, b):\n",
    "        a_norm = np.linalg.norm(a)\n",
    "        b_norms = np.linalg.norm(b, axis=1)\n",
    "        return np.dot(b, a) / (b_norms * a_norm + 1e-10)\n",
    "\n",
    "    if hasattr(query_vec, 'toarray'):\n",
    "        qvec = query_vec.toarray().flatten()\n",
    "    else:\n",
    "        qvec = query_vec.flatten()\n",
    "\n",
    "    sims = cosine_similarity(qvec, idx.embeddings)\n",
    "\n",
    "    mask = np.ones(len(idx.docs), dtype=bool)\n",
    "    for field, val in filter_dict.items():\n",
    "        if field in idx.keyword_fields:\n",
    "            arr = np.array(idx.keyword_df[field])\n",
    "            mask = mask & (arr == val)\n",
    "\n",
    "    sims = sims * mask\n",
    "\n",
    "    top_indices = np.argpartition(sims, -num_results)[-num_results:]\n",
    "    top_indices = top_indices[np.argsort(-sims[top_indices])]\n",
    "\n",
    "    results = [idx.docs[i] for i in top_indices if sims[i] > 0]\n",
    "    if not results:\n",
    "        # if no documents with positive similarity, fall back to top ranked regardless of positive score\n",
    "        results = [idx.docs[i] for i in top_indices]\n",
    "    return results\n",
    "\n",
    "# Search function wrapped for evaluation\n",
    "def search_fn(q):\n",
    "    query_vec = pipeline.transform([q['question']])\n",
    "    return vector_search(index, query_vec, filter_dict={'course': q['course']}, num_results=5)\n",
    "\n",
    "# MRR evaluation\n",
    "def mrr(relevance_total):\n",
    "    total_score = 0.0\n",
    "    for line in relevance_total:\n",
    "        for rank in range(len(line)):\n",
    "            if line[rank]:\n",
    "                total_score += 1 / (rank + 1)\n",
    "                break\n",
    "    return total_score / len(relevance_total)\n",
    "\n",
    "# Evaluate MRR\n",
    "relevance_total = []\n",
    "for q in tqdm(ground_truth):\n",
    "    doc_id = q['document']\n",
    "    results = search_fn(q)\n",
    "    relevance = [d['id'] == doc_id for d in results]\n",
    "    relevance_total.append(relevance)\n",
    "\n",
    "score = mrr(relevance_total)\n",
    "print(\"MRR (Vector Search, question field):\", score)\n"
   ]
  },
  {
   "cell_type": "markdown",
   "id": "103626db",
   "metadata": {},
   "source": [
    "### Answer:3\n"
   ]
  },
  {
   "cell_type": "code",
   "execution_count": null,
   "id": "0bb01273",
   "metadata": {},
   "outputs": [
    {
     "data": {
      "application/vnd.jupyter.widget-view+json": {
       "model_id": "538024e54d2f47eb8be826bda00b62e5",
       "version_major": 2,
       "version_minor": 0
      },
      "text/plain": [
       "  0%|          | 0/4627 [00:00<?, ?it/s]"
      ]
     },
     "metadata": {},
     "output_type": "display_data"
    },
    {
     "name": "stdout",
     "output_type": "stream",
     "text": [
      "Hitrate (Vector Search question + text): 0.8210503566025502\n"
     ]
    }
   ],
   "source": [
    "# Combine question and text for document embeddings\n",
    "texts = [doc['question'] + ' ' + doc['text'] for doc in documents]\n",
    "\n",
    "pipeline = make_pipeline(\n",
    "    TfidfVectorizer(min_df=3),\n",
    "    TruncatedSVD(n_components=128, random_state=1)\n",
    ")\n",
    "X = pipeline.fit_transform(texts)\n",
    "\n",
    "# Build the index\n",
    "index = minsearch.Index(text_fields=[], keyword_fields=['course', 'id'])\n",
    "index.docs = documents\n",
    "index.keyword_df = pd.DataFrame({field: [doc.get(field, '') for doc in documents] for field in index.keyword_fields})\n",
    "index.embeddings = X\n",
    "\n",
    "def vector_search(index, query_vec, filter_dict={}, num_results=5):\n",
    "    def cosine_similarity(a, b):\n",
    "        a_norm = np.linalg.norm(a)\n",
    "        b_norms = np.linalg.norm(b, axis=1)\n",
    "        return np.dot(b, a) / (b_norms * a_norm + 1e-10)\n",
    "\n",
    "    if hasattr(query_vec, 'toarray'):\n",
    "        qvec = query_vec.toarray().flatten()\n",
    "    else:\n",
    "        qvec = query_vec.flatten()\n",
    "    sims = cosine_similarity(qvec, index.embeddings)\n",
    "\n",
    "    mask = np.ones(len(index.docs), dtype=bool)\n",
    "    for field, val in filter_dict.items():\n",
    "        if field in index.keyword_fields:\n",
    "            arr = np.array(index.keyword_df[field])\n",
    "            mask = mask & (arr == val)\n",
    "\n",
    "    sims = sims * mask\n",
    "    top_indices = np.argpartition(sims, -num_results)[-num_results:]\n",
    "    top_indices = top_indices[np.argsort(-sims[top_indices])]\n",
    "    results = [index.docs[i] for i in top_indices if sims[i] > 0]\n",
    "    if not results:\n",
    "        results = [index.docs[i] for i in top_indices]\n",
    "    return results\n",
    "\n",
    "def vector_search_question_text(q):\n",
    "    query_text = q['question']\n",
    "    course_filter = q['course']\n",
    "    query_vec = pipeline.transform([query_text])\n",
    "    return vector_search(index, query_vec, filter_dict={'course': course_filter}, num_results=5)\n",
    "\n",
    "def hit_rate(relevance_total):\n",
    "    return sum(True in line for line in relevance_total) / len(relevance_total)\n",
    "\n",
    "relevance_total = []\n",
    "for q in tqdm(ground_truth):\n",
    "    doc_id = q['document']\n",
    "    results = vector_search_question_text(q)\n",
    "    relevance = [d['id'] == doc_id for d in results]\n",
    "    relevance_total.append(relevance)\n",
    "\n",
    "hit = hit_rate(relevance_total)\n",
    "print(\"Hitrate (Vector Search question + text):\", hit)\n"
   ]
  },
  {
   "cell_type": "markdown",
   "id": "06c755bf",
   "metadata": {},
   "source": [
    "### Answer:4"
   ]
  },
  {
   "cell_type": "code",
   "execution_count": null,
   "id": "ad0fb4a6",
   "metadata": {},
   "outputs": [
    {
     "name": "stdout",
     "output_type": "stream",
     "text": [
      "Requirement already satisfied: qdrant-client in c:\\users\\adi\\appdata\\local\\programs\\python\\python311\\lib\\site-packages (1.15.0)\n",
      "Collecting jinaai\n",
      "  Downloading jinaai-0.2.10-py3-none-any.whl.metadata (17 kB)\n",
      "Requirement already satisfied: fastembed in c:\\users\\adi\\appdata\\local\\programs\\python\\python311\\lib\\site-packages (0.6.1)\n",
      "Requirement already satisfied: tqdm in c:\\users\\adi\\appdata\\local\\programs\\python\\python311\\lib\\site-packages (4.67.1)\n",
      "Requirement already satisfied: pandas in c:\\users\\adi\\appdata\\local\\programs\\python\\python311\\lib\\site-packages (2.2.3)\n",
      "Requirement already satisfied: requests in c:\\users\\adi\\appdata\\local\\programs\\python\\python311\\lib\\site-packages (2.32.4)\n",
      "Requirement already satisfied: grpcio>=1.41.0 in c:\\users\\adi\\appdata\\local\\programs\\python\\python311\\lib\\site-packages (from qdrant-client) (1.71.0)\n",
      "Requirement already satisfied: httpx>=0.20.0 in c:\\users\\adi\\appdata\\local\\programs\\python\\python311\\lib\\site-packages (from httpx[http2]>=0.20.0->qdrant-client) (0.28.1)\n",
      "Requirement already satisfied: numpy>=1.21 in c:\\users\\adi\\appdata\\local\\programs\\python\\python311\\lib\\site-packages (from qdrant-client) (1.26.4)\n",
      "Requirement already satisfied: portalocker<4.0,>=2.7.0 in c:\\users\\adi\\appdata\\local\\programs\\python\\python311\\lib\\site-packages (from qdrant-client) (2.10.1)\n",
      "Requirement already satisfied: protobuf>=3.20.0 in c:\\users\\adi\\appdata\\local\\programs\\python\\python311\\lib\\site-packages (from qdrant-client) (5.29.4)\n",
      "Requirement already satisfied: pydantic!=2.0.*,!=2.1.*,!=2.2.0,>=1.10.8 in c:\\users\\adi\\appdata\\local\\programs\\python\\python311\\lib\\site-packages (from qdrant-client) (2.11.7)\n",
      "Requirement already satisfied: urllib3<3,>=1.26.14 in c:\\users\\adi\\appdata\\local\\programs\\python\\python311\\lib\\site-packages (from qdrant-client) (2.4.0)\n",
      "Requirement already satisfied: huggingface-hub<1.0,>=0.20 in c:\\users\\adi\\appdata\\local\\programs\\python\\python311\\lib\\site-packages (from fastembed) (0.32.4)\n",
      "Requirement already satisfied: loguru<0.8.0,>=0.7.2 in c:\\users\\adi\\appdata\\local\\programs\\python\\python311\\lib\\site-packages (from fastembed) (0.7.3)\n",
      "Requirement already satisfied: mmh3<6.0.0,>=4.1.0 in c:\\users\\adi\\appdata\\local\\programs\\python\\python311\\lib\\site-packages (from fastembed) (5.1.0)\n",
      "Requirement already satisfied: onnxruntime!=1.20.0,>=1.17.0 in c:\\users\\adi\\appdata\\local\\programs\\python\\python311\\lib\\site-packages (from fastembed) (1.21.1)\n",
      "Requirement already satisfied: pillow<12.0.0,>=10.3.0 in c:\\users\\adi\\appdata\\local\\programs\\python\\python311\\lib\\site-packages (from fastembed) (10.3.0)\n",
      "Requirement already satisfied: py-rust-stemmers<0.2.0,>=0.1.0 in c:\\users\\adi\\appdata\\local\\programs\\python\\python311\\lib\\site-packages (from fastembed) (0.1.5)\n",
      "Requirement already satisfied: tokenizers<1.0,>=0.15 in c:\\users\\adi\\appdata\\local\\programs\\python\\python311\\lib\\site-packages (from fastembed) (0.21.1)\n",
      "Requirement already satisfied: colorama in c:\\users\\adi\\appdata\\local\\programs\\python\\python311\\lib\\site-packages (from tqdm) (0.4.6)\n",
      "Requirement already satisfied: python-dateutil>=2.8.2 in c:\\users\\adi\\appdata\\local\\programs\\python\\python311\\lib\\site-packages (from pandas) (2.8.2)\n",
      "Requirement already satisfied: pytz>=2020.1 in c:\\users\\adi\\appdata\\local\\programs\\python\\python311\\lib\\site-packages (from pandas) (2025.2)\n",
      "Requirement already satisfied: tzdata>=2022.7 in c:\\users\\adi\\appdata\\local\\programs\\python\\python311\\lib\\site-packages (from pandas) (2025.2)\n",
      "Requirement already satisfied: charset_normalizer<4,>=2 in c:\\users\\adi\\appdata\\local\\programs\\python\\python311\\lib\\site-packages (from requests) (3.4.2)\n",
      "Requirement already satisfied: idna<4,>=2.5 in c:\\users\\adi\\appdata\\local\\programs\\python\\python311\\lib\\site-packages (from requests) (3.10)\n",
      "Requirement already satisfied: certifi>=2017.4.17 in c:\\users\\adi\\appdata\\local\\programs\\python\\python311\\lib\\site-packages (from requests) (2025.7.14)\n",
      "Requirement already satisfied: anyio in c:\\users\\adi\\appdata\\local\\programs\\python\\python311\\lib\\site-packages (from httpx>=0.20.0->httpx[http2]>=0.20.0->qdrant-client) (4.9.0)\n",
      "Requirement already satisfied: httpcore==1.* in c:\\users\\adi\\appdata\\local\\programs\\python\\python311\\lib\\site-packages (from httpx>=0.20.0->httpx[http2]>=0.20.0->qdrant-client) (1.0.9)\n",
      "Requirement already satisfied: h11>=0.16 in c:\\users\\adi\\appdata\\local\\programs\\python\\python311\\lib\\site-packages (from httpcore==1.*->httpx>=0.20.0->httpx[http2]>=0.20.0->qdrant-client) (0.16.0)\n",
      "Requirement already satisfied: h2<5,>=3 in c:\\users\\adi\\appdata\\local\\programs\\python\\python311\\lib\\site-packages (from httpx[http2]>=0.20.0->qdrant-client) (4.2.0)\n",
      "Requirement already satisfied: filelock in c:\\users\\adi\\appdata\\local\\programs\\python\\python311\\lib\\site-packages (from huggingface-hub<1.0,>=0.20->fastembed) (3.18.0)\n",
      "Requirement already satisfied: fsspec>=2023.5.0 in c:\\users\\adi\\appdata\\local\\programs\\python\\python311\\lib\\site-packages (from huggingface-hub<1.0,>=0.20->fastembed) (2025.3.2)\n",
      "Requirement already satisfied: packaging>=20.9 in c:\\users\\adi\\appdata\\local\\programs\\python\\python311\\lib\\site-packages (from huggingface-hub<1.0,>=0.20->fastembed) (24.2)\n",
      "Requirement already satisfied: pyyaml>=5.1 in c:\\users\\adi\\appdata\\local\\programs\\python\\python311\\lib\\site-packages (from huggingface-hub<1.0,>=0.20->fastembed) (6.0.2)\n",
      "Requirement already satisfied: typing-extensions>=3.7.4.3 in c:\\users\\adi\\appdata\\local\\programs\\python\\python311\\lib\\site-packages (from huggingface-hub<1.0,>=0.20->fastembed) (4.14.1)\n",
      "Requirement already satisfied: win32-setctime>=1.0.0 in c:\\users\\adi\\appdata\\local\\programs\\python\\python311\\lib\\site-packages (from loguru<0.8.0,>=0.7.2->fastembed) (1.2.0)\n",
      "Requirement already satisfied: coloredlogs in c:\\users\\adi\\appdata\\local\\programs\\python\\python311\\lib\\site-packages (from onnxruntime!=1.20.0,>=1.17.0->fastembed) (15.0.1)\n",
      "Requirement already satisfied: flatbuffers in c:\\users\\adi\\appdata\\local\\programs\\python\\python311\\lib\\site-packages (from onnxruntime!=1.20.0,>=1.17.0->fastembed) (25.2.10)\n",
      "Requirement already satisfied: sympy in c:\\users\\adi\\appdata\\local\\programs\\python\\python311\\lib\\site-packages (from onnxruntime!=1.20.0,>=1.17.0->fastembed) (1.14.0)\n",
      "Requirement already satisfied: pywin32>=226 in c:\\users\\adi\\appdata\\local\\programs\\python\\python311\\lib\\site-packages (from portalocker<4.0,>=2.7.0->qdrant-client) (311)\n",
      "Requirement already satisfied: annotated-types>=0.6.0 in c:\\users\\adi\\appdata\\local\\programs\\python\\python311\\lib\\site-packages (from pydantic!=2.0.*,!=2.1.*,!=2.2.0,>=1.10.8->qdrant-client) (0.7.0)\n",
      "Requirement already satisfied: pydantic-core==2.33.2 in c:\\users\\adi\\appdata\\local\\programs\\python\\python311\\lib\\site-packages (from pydantic!=2.0.*,!=2.1.*,!=2.2.0,>=1.10.8->qdrant-client) (2.33.2)\n",
      "Requirement already satisfied: typing-inspection>=0.4.0 in c:\\users\\adi\\appdata\\local\\programs\\python\\python311\\lib\\site-packages (from pydantic!=2.0.*,!=2.1.*,!=2.2.0,>=1.10.8->qdrant-client) (0.4.1)\n",
      "Requirement already satisfied: six>=1.5 in c:\\users\\adi\\appdata\\local\\programs\\python\\python311\\lib\\site-packages (from python-dateutil>=2.8.2->pandas) (1.17.0)\n",
      "Requirement already satisfied: hyperframe<7,>=6.1 in c:\\users\\adi\\appdata\\local\\programs\\python\\python311\\lib\\site-packages (from h2<5,>=3->httpx[http2]>=0.20.0->qdrant-client) (6.1.0)\n",
      "Requirement already satisfied: hpack<5,>=4.1 in c:\\users\\adi\\appdata\\local\\programs\\python\\python311\\lib\\site-packages (from h2<5,>=3->httpx[http2]>=0.20.0->qdrant-client) (4.1.0)\n",
      "Requirement already satisfied: sniffio>=1.1 in c:\\users\\adi\\appdata\\local\\programs\\python\\python311\\lib\\site-packages (from anyio->httpx>=0.20.0->httpx[http2]>=0.20.0->qdrant-client) (1.3.1)\n",
      "Requirement already satisfied: humanfriendly>=9.1 in c:\\users\\adi\\appdata\\local\\programs\\python\\python311\\lib\\site-packages (from coloredlogs->onnxruntime!=1.20.0,>=1.17.0->fastembed) (10.0)\n",
      "Requirement already satisfied: mpmath<1.4,>=1.1.0 in c:\\users\\adi\\appdata\\local\\programs\\python\\python311\\lib\\site-packages (from sympy->onnxruntime!=1.20.0,>=1.17.0->fastembed) (1.3.0)\n",
      "Requirement already satisfied: pyreadline3 in c:\\users\\adi\\appdata\\local\\programs\\python\\python311\\lib\\site-packages (from humanfriendly>=9.1->coloredlogs->onnxruntime!=1.20.0,>=1.17.0->fastembed) (3.5.4)\n",
      "Downloading jinaai-0.2.10-py3-none-any.whl (16 kB)\n",
      "Installing collected packages: jinaai\n",
      "Successfully installed jinaai-0.2.10\n",
      "Note: you may need to restart the kernel to use updated packages.\n"
     ]
    },
    {
     "name": "stderr",
     "output_type": "stream",
     "text": [
      "\n",
      "[notice] A new release of pip is available: 24.0 -> 25.1.1\n",
      "[notice] To update, run: python.exe -m pip install --upgrade pip\n"
     ]
    }
   ],
   "source": [
    "pip install qdrant-client jinaai fastembed tqdm pandas requests"
   ]
  },
  {
   "cell_type": "code",
   "execution_count": 26,
   "id": "85bb0df4",
   "metadata": {},
   "outputs": [],
   "source": [
    "from qdrant_client import QdrantClient, models\n",
    "from qdrant_client.models import Filter, Distance, VectorParams, PointStruct, FieldCondition, MatchValue\n",
    "from fastembed import TextEmbedding"
   ]
  },
  {
   "cell_type": "code",
   "execution_count": 7,
   "id": "112027e6",
   "metadata": {},
   "outputs": [],
   "source": [
    "# --- config ---\n",
    "\n",
    "DIM = 512\n",
    "model_handle = 'jinaai/jina-embeddings-v2-small-en'\n",
    "embedder = TextEmbedding(model_name=model_handle)\n",
    "limit = 5\n",
    "collection_name = \"faq_retrieval\""
   ]
  },
  {
   "cell_type": "code",
   "execution_count": 8,
   "id": "262cfc56",
   "metadata": {},
   "outputs": [],
   "source": [
    "qd_client = QdrantClient(\"http://localhost:6333\")"
   ]
  },
  {
   "cell_type": "code",
   "execution_count": 10,
   "id": "6f67f185",
   "metadata": {},
   "outputs": [],
   "source": [
    "#qd_client.delete_collection(collection_name = collection_name)"
   ]
  },
  {
   "cell_type": "code",
   "execution_count": 12,
   "id": "708a8c56",
   "metadata": {},
   "outputs": [
    {
     "data": {
      "text/plain": [
       "True"
      ]
     },
     "execution_count": 12,
     "metadata": {},
     "output_type": "execute_result"
    }
   ],
   "source": [
    "qd_client.create_collection(\n",
    "    collection_name=collection_name,\n",
    "    vectors_config=models.VectorParams(\n",
    "        size=DIM,\n",
    "        distance=models.Distance.COSINE\n",
    "    )\n",
    ")"
   ]
  },
  {
   "cell_type": "code",
   "execution_count": 14,
   "id": "c6d9d3e8",
   "metadata": {},
   "outputs": [
    {
     "data": {
      "text/plain": [
       "UpdateResult(operation_id=1, status=<UpdateStatus.COMPLETED: 'completed'>)"
      ]
     },
     "execution_count": 14,
     "metadata": {},
     "output_type": "execute_result"
    }
   ],
   "source": [
    "qd_client.create_payload_index(\n",
    "    collection_name=collection_name,\n",
    "    field_name=\"course\",\n",
    "    field_schema=\"keyword\"\n",
    ")"
   ]
  },
  {
   "cell_type": "code",
   "execution_count": 22,
   "id": "5a95fc80",
   "metadata": {},
   "outputs": [],
   "source": [
    "points = []\n",
    "\n",
    "for i, doc in enumerate(documents):\n",
    "    text = doc['question'] + ' ' + doc['text']\n",
    "    vector = models.Document(text=text, model=model_handle)\n",
    "    point = models.PointStruct(\n",
    "        id=i,\n",
    "        vector=vector,\n",
    "        payload=doc\n",
    "    )\n",
    "    points.append(point)"
   ]
  },
  {
   "cell_type": "code",
   "execution_count": 29,
   "id": "d0bd54a6",
   "metadata": {},
   "outputs": [
    {
     "name": "stderr",
     "output_type": "stream",
     "text": [
      "C:\\Users\\Adi\\AppData\\Local\\Temp\\ipykernel_27344\\691972928.py:27: DeprecationWarning: `recreate_collection` method is deprecated and will be removed in the future. Use `collection_exists` to check collection existence and `create_collection` instead.\n",
      "  qd_client.recreate_collection(\n"
     ]
    },
    {
     "ename": "UnexpectedResponse",
     "evalue": "Unexpected Response: 400 (Bad Request)\nRaw response content:\nb'{\"status\":{\"error\":\"Format error in JSON body: value c02e79ef is not a valid point ID, valid values are either an unsigned integer or a UUID\"},\"time\":0.0}'",
     "output_type": "error",
     "traceback": [
      "\u001b[1;31m---------------------------------------------------------------------------\u001b[0m",
      "\u001b[1;31mUnexpectedResponse\u001b[0m                        Traceback (most recent call last)",
      "Cell \u001b[1;32mIn[29], line 48\u001b[0m\n\u001b[0;32m     45\u001b[0m     points\u001b[38;5;241m.\u001b[39mappend(point)\n\u001b[0;32m     47\u001b[0m \u001b[38;5;66;03m# Upload points to Qdrant\u001b[39;00m\n\u001b[1;32m---> 48\u001b[0m \u001b[43mqd_client\u001b[49m\u001b[38;5;241;43m.\u001b[39;49m\u001b[43mupsert\u001b[49m\u001b[43m(\u001b[49m\n\u001b[0;32m     49\u001b[0m \u001b[43m    \u001b[49m\u001b[43mcollection_name\u001b[49m\u001b[38;5;241;43m=\u001b[39;49m\u001b[43mcollection_name\u001b[49m\u001b[43m,\u001b[49m\n\u001b[0;32m     50\u001b[0m \u001b[43m    \u001b[49m\u001b[43mpoints\u001b[49m\u001b[38;5;241;43m=\u001b[39;49m\u001b[43mpoints\u001b[49m\n\u001b[0;32m     51\u001b[0m \u001b[43m)\u001b[49m\n\u001b[0;32m     53\u001b[0m \u001b[38;5;66;03m# Define search function\u001b[39;00m\n\u001b[0;32m     54\u001b[0m \u001b[38;5;28;01mdef\u001b[39;00m\u001b[38;5;250m \u001b[39m\u001b[38;5;21mqdrant_search\u001b[39m(query, course):\n",
      "File \u001b[1;32mc:\\Users\\Adi\\AppData\\Local\\Programs\\Python\\Python311\\Lib\\site-packages\\qdrant_client\\qdrant_client.py:1633\u001b[0m, in \u001b[0;36mQdrantClient.upsert\u001b[1;34m(self, collection_name, points, wait, ordering, shard_key_selector, **kwargs)\u001b[0m\n\u001b[0;32m   1626\u001b[0m     \u001b[38;5;28;01melse\u001b[39;00m:\n\u001b[0;32m   1627\u001b[0m         points \u001b[38;5;241m=\u001b[39m \u001b[38;5;28mlist\u001b[39m(\n\u001b[0;32m   1628\u001b[0m             \u001b[38;5;28mself\u001b[39m\u001b[38;5;241m.\u001b[39m_embed_models(\n\u001b[0;32m   1629\u001b[0m                 points, is_query\u001b[38;5;241m=\u001b[39m\u001b[38;5;28;01mFalse\u001b[39;00m, batch_size\u001b[38;5;241m=\u001b[39m\u001b[38;5;28mself\u001b[39m\u001b[38;5;241m.\u001b[39mlocal_inference_batch_size\n\u001b[0;32m   1630\u001b[0m             )\n\u001b[0;32m   1631\u001b[0m         )\n\u001b[1;32m-> 1633\u001b[0m \u001b[38;5;28;01mreturn\u001b[39;00m \u001b[38;5;28;43mself\u001b[39;49m\u001b[38;5;241;43m.\u001b[39;49m\u001b[43m_client\u001b[49m\u001b[38;5;241;43m.\u001b[39;49m\u001b[43mupsert\u001b[49m\u001b[43m(\u001b[49m\n\u001b[0;32m   1634\u001b[0m \u001b[43m    \u001b[49m\u001b[43mcollection_name\u001b[49m\u001b[38;5;241;43m=\u001b[39;49m\u001b[43mcollection_name\u001b[49m\u001b[43m,\u001b[49m\n\u001b[0;32m   1635\u001b[0m \u001b[43m    \u001b[49m\u001b[43mpoints\u001b[49m\u001b[38;5;241;43m=\u001b[39;49m\u001b[43mpoints\u001b[49m\u001b[43m,\u001b[49m\n\u001b[0;32m   1636\u001b[0m \u001b[43m    \u001b[49m\u001b[43mwait\u001b[49m\u001b[38;5;241;43m=\u001b[39;49m\u001b[43mwait\u001b[49m\u001b[43m,\u001b[49m\n\u001b[0;32m   1637\u001b[0m \u001b[43m    \u001b[49m\u001b[43mordering\u001b[49m\u001b[38;5;241;43m=\u001b[39;49m\u001b[43mordering\u001b[49m\u001b[43m,\u001b[49m\n\u001b[0;32m   1638\u001b[0m \u001b[43m    \u001b[49m\u001b[43mshard_key_selector\u001b[49m\u001b[38;5;241;43m=\u001b[39;49m\u001b[43mshard_key_selector\u001b[49m\u001b[43m,\u001b[49m\n\u001b[0;32m   1639\u001b[0m \u001b[43m    \u001b[49m\u001b[38;5;241;43m*\u001b[39;49m\u001b[38;5;241;43m*\u001b[39;49m\u001b[43mkwargs\u001b[49m\u001b[43m,\u001b[49m\n\u001b[0;32m   1640\u001b[0m \u001b[43m\u001b[49m\u001b[43m)\u001b[49m\n",
      "File \u001b[1;32mc:\\Users\\Adi\\AppData\\Local\\Programs\\Python\\Python311\\Lib\\site-packages\\qdrant_client\\qdrant_remote.py:1911\u001b[0m, in \u001b[0;36mQdrantRemote.upsert\u001b[1;34m(self, collection_name, points, wait, ordering, shard_key_selector, **kwargs)\u001b[0m\n\u001b[0;32m   1908\u001b[0m \u001b[38;5;28;01mif\u001b[39;00m \u001b[38;5;28misinstance\u001b[39m(points, models\u001b[38;5;241m.\u001b[39mBatch):\n\u001b[0;32m   1909\u001b[0m     points \u001b[38;5;241m=\u001b[39m models\u001b[38;5;241m.\u001b[39mPointsBatch(batch\u001b[38;5;241m=\u001b[39mpoints, shard_key\u001b[38;5;241m=\u001b[39mshard_key_selector)\n\u001b[1;32m-> 1911\u001b[0m http_result \u001b[38;5;241m=\u001b[39m \u001b[38;5;28;43mself\u001b[39;49m\u001b[38;5;241;43m.\u001b[39;49m\u001b[43mopenapi_client\u001b[49m\u001b[38;5;241;43m.\u001b[39;49m\u001b[43mpoints_api\u001b[49m\u001b[38;5;241;43m.\u001b[39;49m\u001b[43mupsert_points\u001b[49m\u001b[43m(\u001b[49m\n\u001b[0;32m   1912\u001b[0m \u001b[43m    \u001b[49m\u001b[43mcollection_name\u001b[49m\u001b[38;5;241;43m=\u001b[39;49m\u001b[43mcollection_name\u001b[49m\u001b[43m,\u001b[49m\n\u001b[0;32m   1913\u001b[0m \u001b[43m    \u001b[49m\u001b[43mwait\u001b[49m\u001b[38;5;241;43m=\u001b[39;49m\u001b[43mwait\u001b[49m\u001b[43m,\u001b[49m\n\u001b[0;32m   1914\u001b[0m \u001b[43m    \u001b[49m\u001b[43mpoint_insert_operations\u001b[49m\u001b[38;5;241;43m=\u001b[39;49m\u001b[43mpoints\u001b[49m\u001b[43m,\u001b[49m\n\u001b[0;32m   1915\u001b[0m \u001b[43m    \u001b[49m\u001b[43mordering\u001b[49m\u001b[38;5;241;43m=\u001b[39;49m\u001b[43mordering\u001b[49m\u001b[43m,\u001b[49m\n\u001b[0;32m   1916\u001b[0m \u001b[43m\u001b[49m\u001b[43m)\u001b[49m\u001b[38;5;241m.\u001b[39mresult\n\u001b[0;32m   1917\u001b[0m \u001b[38;5;28;01massert\u001b[39;00m http_result \u001b[38;5;129;01mis\u001b[39;00m \u001b[38;5;129;01mnot\u001b[39;00m \u001b[38;5;28;01mNone\u001b[39;00m, \u001b[38;5;124m\"\u001b[39m\u001b[38;5;124mUpsert returned None result\u001b[39m\u001b[38;5;124m\"\u001b[39m\n\u001b[0;32m   1918\u001b[0m \u001b[38;5;28;01mreturn\u001b[39;00m http_result\n",
      "File \u001b[1;32mc:\\Users\\Adi\\AppData\\Local\\Programs\\Python\\Python311\\Lib\\site-packages\\qdrant_client\\http\\api\\points_api.py:987\u001b[0m, in \u001b[0;36mSyncPointsApi.upsert_points\u001b[1;34m(self, collection_name, wait, ordering, point_insert_operations)\u001b[0m\n\u001b[0;32m    977\u001b[0m \u001b[38;5;28;01mdef\u001b[39;00m\u001b[38;5;250m \u001b[39m\u001b[38;5;21mupsert_points\u001b[39m(\n\u001b[0;32m    978\u001b[0m     \u001b[38;5;28mself\u001b[39m,\n\u001b[0;32m    979\u001b[0m     collection_name: \u001b[38;5;28mstr\u001b[39m,\n\u001b[1;32m   (...)\u001b[0m\n\u001b[0;32m    982\u001b[0m     point_insert_operations: m\u001b[38;5;241m.\u001b[39mPointInsertOperations \u001b[38;5;241m=\u001b[39m \u001b[38;5;28;01mNone\u001b[39;00m,\n\u001b[0;32m    983\u001b[0m ) \u001b[38;5;241m-\u001b[39m\u001b[38;5;241m>\u001b[39m m\u001b[38;5;241m.\u001b[39mInlineResponse2006:\n\u001b[0;32m    984\u001b[0m \u001b[38;5;250m    \u001b[39m\u001b[38;5;124;03m\"\"\"\u001b[39;00m\n\u001b[0;32m    985\u001b[0m \u001b[38;5;124;03m    Perform insert + updates on points. If point with given ID already exists - it will be overwritten.\u001b[39;00m\n\u001b[0;32m    986\u001b[0m \u001b[38;5;124;03m    \"\"\"\u001b[39;00m\n\u001b[1;32m--> 987\u001b[0m     \u001b[38;5;28;01mreturn\u001b[39;00m \u001b[38;5;28;43mself\u001b[39;49m\u001b[38;5;241;43m.\u001b[39;49m\u001b[43m_build_for_upsert_points\u001b[49m\u001b[43m(\u001b[49m\n\u001b[0;32m    988\u001b[0m \u001b[43m        \u001b[49m\u001b[43mcollection_name\u001b[49m\u001b[38;5;241;43m=\u001b[39;49m\u001b[43mcollection_name\u001b[49m\u001b[43m,\u001b[49m\n\u001b[0;32m    989\u001b[0m \u001b[43m        \u001b[49m\u001b[43mwait\u001b[49m\u001b[38;5;241;43m=\u001b[39;49m\u001b[43mwait\u001b[49m\u001b[43m,\u001b[49m\n\u001b[0;32m    990\u001b[0m \u001b[43m        \u001b[49m\u001b[43mordering\u001b[49m\u001b[38;5;241;43m=\u001b[39;49m\u001b[43mordering\u001b[49m\u001b[43m,\u001b[49m\n\u001b[0;32m    991\u001b[0m \u001b[43m        \u001b[49m\u001b[43mpoint_insert_operations\u001b[49m\u001b[38;5;241;43m=\u001b[39;49m\u001b[43mpoint_insert_operations\u001b[49m\u001b[43m,\u001b[49m\n\u001b[0;32m    992\u001b[0m \u001b[43m    \u001b[49m\u001b[43m)\u001b[49m\n",
      "File \u001b[1;32mc:\\Users\\Adi\\AppData\\Local\\Programs\\Python\\Python311\\Lib\\site-packages\\qdrant_client\\http\\api\\points_api.py:512\u001b[0m, in \u001b[0;36m_PointsApi._build_for_upsert_points\u001b[1;34m(self, collection_name, wait, ordering, point_insert_operations)\u001b[0m\n\u001b[0;32m    510\u001b[0m \u001b[38;5;28;01mif\u001b[39;00m \u001b[38;5;124m\"\u001b[39m\u001b[38;5;124mContent-Type\u001b[39m\u001b[38;5;124m\"\u001b[39m \u001b[38;5;129;01mnot\u001b[39;00m \u001b[38;5;129;01min\u001b[39;00m headers:\n\u001b[0;32m    511\u001b[0m     headers[\u001b[38;5;124m\"\u001b[39m\u001b[38;5;124mContent-Type\u001b[39m\u001b[38;5;124m\"\u001b[39m] \u001b[38;5;241m=\u001b[39m \u001b[38;5;124m\"\u001b[39m\u001b[38;5;124mapplication/json\u001b[39m\u001b[38;5;124m\"\u001b[39m\n\u001b[1;32m--> 512\u001b[0m \u001b[38;5;28;01mreturn\u001b[39;00m \u001b[38;5;28;43mself\u001b[39;49m\u001b[38;5;241;43m.\u001b[39;49m\u001b[43mapi_client\u001b[49m\u001b[38;5;241;43m.\u001b[39;49m\u001b[43mrequest\u001b[49m\u001b[43m(\u001b[49m\n\u001b[0;32m    513\u001b[0m \u001b[43m    \u001b[49m\u001b[43mtype_\u001b[49m\u001b[38;5;241;43m=\u001b[39;49m\u001b[43mm\u001b[49m\u001b[38;5;241;43m.\u001b[39;49m\u001b[43mInlineResponse2006\u001b[49m\u001b[43m,\u001b[49m\n\u001b[0;32m    514\u001b[0m \u001b[43m    \u001b[49m\u001b[43mmethod\u001b[49m\u001b[38;5;241;43m=\u001b[39;49m\u001b[38;5;124;43m\"\u001b[39;49m\u001b[38;5;124;43mPUT\u001b[39;49m\u001b[38;5;124;43m\"\u001b[39;49m\u001b[43m,\u001b[49m\n\u001b[0;32m    515\u001b[0m \u001b[43m    \u001b[49m\u001b[43murl\u001b[49m\u001b[38;5;241;43m=\u001b[39;49m\u001b[38;5;124;43m\"\u001b[39;49m\u001b[38;5;124;43m/collections/\u001b[39;49m\u001b[38;5;132;43;01m{collection_name}\u001b[39;49;00m\u001b[38;5;124;43m/points\u001b[39;49m\u001b[38;5;124;43m\"\u001b[39;49m\u001b[43m,\u001b[49m\n\u001b[0;32m    516\u001b[0m \u001b[43m    \u001b[49m\u001b[43mheaders\u001b[49m\u001b[38;5;241;43m=\u001b[39;49m\u001b[43mheaders\u001b[49m\u001b[43m \u001b[49m\u001b[38;5;28;43;01mif\u001b[39;49;00m\u001b[43m \u001b[49m\u001b[43mheaders\u001b[49m\u001b[43m \u001b[49m\u001b[38;5;28;43;01melse\u001b[39;49;00m\u001b[43m \u001b[49m\u001b[38;5;28;43;01mNone\u001b[39;49;00m\u001b[43m,\u001b[49m\n\u001b[0;32m    517\u001b[0m \u001b[43m    \u001b[49m\u001b[43mpath_params\u001b[49m\u001b[38;5;241;43m=\u001b[39;49m\u001b[43mpath_params\u001b[49m\u001b[43m,\u001b[49m\n\u001b[0;32m    518\u001b[0m \u001b[43m    \u001b[49m\u001b[43mparams\u001b[49m\u001b[38;5;241;43m=\u001b[39;49m\u001b[43mquery_params\u001b[49m\u001b[43m,\u001b[49m\n\u001b[0;32m    519\u001b[0m \u001b[43m    \u001b[49m\u001b[43mcontent\u001b[49m\u001b[38;5;241;43m=\u001b[39;49m\u001b[43mbody\u001b[49m\u001b[43m,\u001b[49m\n\u001b[0;32m    520\u001b[0m \u001b[43m\u001b[49m\u001b[43m)\u001b[49m\n",
      "File \u001b[1;32mc:\\Users\\Adi\\AppData\\Local\\Programs\\Python\\Python311\\Lib\\site-packages\\qdrant_client\\http\\api_client.py:95\u001b[0m, in \u001b[0;36mApiClient.request\u001b[1;34m(self, type_, method, url, path_params, **kwargs)\u001b[0m\n\u001b[0;32m     93\u001b[0m     kwargs[\u001b[38;5;124m\"\u001b[39m\u001b[38;5;124mtimeout\u001b[39m\u001b[38;5;124m\"\u001b[39m] \u001b[38;5;241m=\u001b[39m \u001b[38;5;28mint\u001b[39m(kwargs[\u001b[38;5;124m\"\u001b[39m\u001b[38;5;124mparams\u001b[39m\u001b[38;5;124m\"\u001b[39m][\u001b[38;5;124m\"\u001b[39m\u001b[38;5;124mtimeout\u001b[39m\u001b[38;5;124m\"\u001b[39m])\n\u001b[0;32m     94\u001b[0m request \u001b[38;5;241m=\u001b[39m \u001b[38;5;28mself\u001b[39m\u001b[38;5;241m.\u001b[39m_client\u001b[38;5;241m.\u001b[39mbuild_request(method, url, \u001b[38;5;241m*\u001b[39m\u001b[38;5;241m*\u001b[39mkwargs)\n\u001b[1;32m---> 95\u001b[0m \u001b[38;5;28;01mreturn\u001b[39;00m \u001b[38;5;28;43mself\u001b[39;49m\u001b[38;5;241;43m.\u001b[39;49m\u001b[43msend\u001b[49m\u001b[43m(\u001b[49m\u001b[43mrequest\u001b[49m\u001b[43m,\u001b[49m\u001b[43m \u001b[49m\u001b[43mtype_\u001b[49m\u001b[43m)\u001b[49m\n",
      "File \u001b[1;32mc:\\Users\\Adi\\AppData\\Local\\Programs\\Python\\Python311\\Lib\\site-packages\\qdrant_client\\http\\api_client.py:130\u001b[0m, in \u001b[0;36mApiClient.send\u001b[1;34m(self, request, type_)\u001b[0m\n\u001b[0;32m    128\u001b[0m     \u001b[38;5;28;01mexcept\u001b[39;00m ValidationError \u001b[38;5;28;01mas\u001b[39;00m e:\n\u001b[0;32m    129\u001b[0m         \u001b[38;5;28;01mraise\u001b[39;00m ResponseHandlingException(e)\n\u001b[1;32m--> 130\u001b[0m \u001b[38;5;28;01mraise\u001b[39;00m UnexpectedResponse\u001b[38;5;241m.\u001b[39mfor_response(response)\n",
      "\u001b[1;31mUnexpectedResponse\u001b[0m: Unexpected Response: 400 (Bad Request)\nRaw response content:\nb'{\"status\":{\"error\":\"Format error in JSON body: value c02e79ef is not a valid point ID, valid values are either an unsigned integer or a UUID\"},\"time\":0.0}'"
     ]
    }
   ],
   "source": [
    "import requests\n",
    "import pandas as pd\n",
    "from tqdm.auto import tqdm\n",
    "from qdrant_client import QdrantClient\n",
    "from qdrant_client.http.models import Distance, VectorParams, PointStruct, Filter, FieldCondition, MatchValue\n",
    "\n",
    "\n",
    "# Configuration\n",
    "collection_name = \"faq_retrieval\"\n",
    "model_handle = \"jinaai/jina-embeddings-v2-small-en\"\n",
    "limit = 5\n",
    "dim = 512  # Embedding dimension for the model, verify if needed\n",
    "\n",
    "# Load data\n",
    "url_prefix = 'https://raw.githubusercontent.com/DataTalksClub/llm-zoomcamp/main/03-evaluation/'\n",
    "docs_url = url_prefix + 'search_evaluation/documents-with-ids.json'\n",
    "ground_truth_url = url_prefix + 'search_evaluation/ground-truth-data.csv'\n",
    "\n",
    "documents = requests.get(docs_url).json()\n",
    "df_ground_truth = pd.read_csv(ground_truth_url)\n",
    "ground_truth = df_ground_truth.to_dict(orient='records')\n",
    "\n",
    "# Initialize Qdrant client, connecting to local or remote Qdrant instance\n",
    "qd_client = QdrantClient(host=\"localhost\", port=6333)  # Change host/port as needed\n",
    "\n",
    "# Recreate collection to clear old data if needed\n",
    "qd_client.recreate_collection(\n",
    "    collection_name=collection_name,\n",
    "    vectors_config=VectorParams(size=dim, distance=Distance.COSINE)\n",
    ")\n",
    "\n",
    "# Initialize embedder\n",
    "embedder = TextEmbedding(model_name=model_handle)\n",
    "\n",
    "# Embed and prepare points to upsert — use real document IDs (strings), not int indices\n",
    "points = []\n",
    "for doc in documents:\n",
    "    text = doc['question'] + ' ' + doc['text']\n",
    "    vector = next(embedder.embed(text))  # embedding must be a numpy array or list\n",
    "    point = PointStruct(\n",
    "        id=doc['id'],  # Use document's real ID (string)\n",
    "        vector=vector,\n",
    "        payload=doc\n",
    "    )\n",
    "    points.append(point)\n",
    "\n",
    "# Upload points to Qdrant\n",
    "qd_client.upsert(\n",
    "    collection_name=collection_name,\n",
    "    points=points\n",
    ")\n",
    "\n",
    "# Define search function\n",
    "def qdrant_search(query, course):\n",
    "    query_vec = next(embedder.embed(query[\"question\"])).tolist()\n",
    "    hits = qd_client.search(\n",
    "        collection_name=collection_name,\n",
    "        query_vector=query_vec,\n",
    "        limit=limit,\n",
    "        query_filter=Filter(\n",
    "            must=[\n",
    "                FieldCondition(\n",
    "                    key=\"course\",\n",
    "                    match=MatchValue(value=course)\n",
    "                )\n",
    "            ]\n",
    "        ),\n",
    "        with_payload=True\n",
    "    )\n",
    "    result_docs = []\n",
    "    for hit in hits:\n",
    "        doc_id = hit.id\n",
    "        # Find document by ID\n",
    "        doc = next((d for d in documents if d[\"id\"] == doc_id), None)\n",
    "        if doc:\n",
    "            result_docs.append(doc)\n",
    "    return result_docs\n",
    "\n",
    "# Define MRR metric\n",
    "def mrr(relevance_total):\n",
    "    total_score = 0.0\n",
    "    for line in relevance_total:\n",
    "        for rank, rel in enumerate(line):\n",
    "            if rel:\n",
    "                total_score += 1 / (rank +1)\n",
    "                break\n",
    "    return total_score / len(relevance_total)\n",
    "\n",
    "# Evaluate over ground truth\n",
    "relevance_total = []\n",
    "for q in tqdm(ground_truth):\n",
    "    doc_id = q[\"document\"]\n",
    "    course = q[\"course\"]\n",
    "    results = qdrant_search(q, course)\n",
    "    relevance = [d[\"id\"] == doc_id for d in results]\n",
    "    relevance_total.append(relevance)\n",
    "\n",
    "score = mrr(relevance_total)\n",
    "print(\"MRR (Qdrant + jinaai/jina-embeddings-v2-small-en):\", score)\n"
   ]
  }
 ],
 "metadata": {
  "kernelspec": {
   "display_name": "Python 3",
   "language": "python",
   "name": "python3"
  },
  "language_info": {
   "codemirror_mode": {
    "name": "ipython",
    "version": 3
   },
   "file_extension": ".py",
   "mimetype": "text/x-python",
   "name": "python",
   "nbconvert_exporter": "python",
   "pygments_lexer": "ipython3",
   "version": "3.11.9"
  }
 },
 "nbformat": 4,
 "nbformat_minor": 5
}
