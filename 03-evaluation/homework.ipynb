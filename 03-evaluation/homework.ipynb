{
 "cells": [
  {
   "cell_type": "code",
   "execution_count": null,
   "id": "f495cda2",
   "metadata": {},
   "outputs": [
    {
     "name": "stdout",
     "output_type": "stream",
     "text": [
      "Requirement already satisfied: minsearch in c:\\users\\adi\\appdata\\local\\programs\\python\\python311\\lib\\site-packages (0.0.4)Note: you may need to restart the kernel to use updated packages.\n",
      "\n",
      "Requirement already satisfied: qdrant_client in c:\\users\\adi\\appdata\\local\\programs\\python\\python311\\lib\\site-packages (1.14.2)\n",
      "Collecting qdrant_client\n",
      "  Downloading qdrant_client-1.15.0-py3-none-any.whl.metadata (11 kB)\n",
      "Requirement already satisfied: numpy in c:\\users\\adi\\appdata\\local\\programs\\python\\python311\\lib\\site-packages (from minsearch) (1.26.4)\n",
      "Requirement already satisfied: pandas in c:\\users\\adi\\appdata\\local\\programs\\python\\python311\\lib\\site-packages (from minsearch) (2.2.3)\n",
      "Requirement already satisfied: scikit-learn in c:\\users\\adi\\appdata\\local\\programs\\python\\python311\\lib\\site-packages (from minsearch) (1.6.1)\n",
      "Requirement already satisfied: grpcio>=1.41.0 in c:\\users\\adi\\appdata\\local\\programs\\python\\python311\\lib\\site-packages (from qdrant_client) (1.71.0)\n",
      "Requirement already satisfied: httpx>=0.20.0 in c:\\users\\adi\\appdata\\local\\programs\\python\\python311\\lib\\site-packages (from httpx[http2]>=0.20.0->qdrant_client) (0.28.1)\n",
      "Requirement already satisfied: portalocker<4.0,>=2.7.0 in c:\\users\\adi\\appdata\\local\\programs\\python\\python311\\lib\\site-packages (from qdrant_client) (2.10.1)\n",
      "Requirement already satisfied: protobuf>=3.20.0 in c:\\users\\adi\\appdata\\local\\programs\\python\\python311\\lib\\site-packages (from qdrant_client) (5.29.4)\n",
      "Requirement already satisfied: pydantic!=2.0.*,!=2.1.*,!=2.2.0,>=1.10.8 in c:\\users\\adi\\appdata\\local\\programs\\python\\python311\\lib\\site-packages (from qdrant_client) (2.11.7)\n",
      "Requirement already satisfied: urllib3<3,>=1.26.14 in c:\\users\\adi\\appdata\\local\\programs\\python\\python311\\lib\\site-packages (from qdrant_client) (2.4.0)\n",
      "Requirement already satisfied: anyio in c:\\users\\adi\\appdata\\local\\programs\\python\\python311\\lib\\site-packages (from httpx>=0.20.0->httpx[http2]>=0.20.0->qdrant_client) (4.9.0)\n",
      "Requirement already satisfied: certifi in c:\\users\\adi\\appdata\\local\\programs\\python\\python311\\lib\\site-packages (from httpx>=0.20.0->httpx[http2]>=0.20.0->qdrant_client) (2025.7.14)\n",
      "Requirement already satisfied: httpcore==1.* in c:\\users\\adi\\appdata\\local\\programs\\python\\python311\\lib\\site-packages (from httpx>=0.20.0->httpx[http2]>=0.20.0->qdrant_client) (1.0.9)\n",
      "Requirement already satisfied: idna in c:\\users\\adi\\appdata\\local\\programs\\python\\python311\\lib\\site-packages (from httpx>=0.20.0->httpx[http2]>=0.20.0->qdrant_client) (3.10)\n",
      "Requirement already satisfied: h11>=0.16 in c:\\users\\adi\\appdata\\local\\programs\\python\\python311\\lib\\site-packages (from httpcore==1.*->httpx>=0.20.0->httpx[http2]>=0.20.0->qdrant_client) (0.16.0)\n",
      "Requirement already satisfied: h2<5,>=3 in c:\\users\\adi\\appdata\\local\\programs\\python\\python311\\lib\\site-packages (from httpx[http2]>=0.20.0->qdrant_client) (4.2.0)\n",
      "Requirement already satisfied: pywin32>=226 in c:\\users\\adi\\appdata\\local\\programs\\python\\python311\\lib\\site-packages (from portalocker<4.0,>=2.7.0->qdrant_client) (311)\n",
      "Requirement already satisfied: annotated-types>=0.6.0 in c:\\users\\adi\\appdata\\local\\programs\\python\\python311\\lib\\site-packages (from pydantic!=2.0.*,!=2.1.*,!=2.2.0,>=1.10.8->qdrant_client) (0.7.0)\n",
      "Requirement already satisfied: pydantic-core==2.33.2 in c:\\users\\adi\\appdata\\local\\programs\\python\\python311\\lib\\site-packages (from pydantic!=2.0.*,!=2.1.*,!=2.2.0,>=1.10.8->qdrant_client) (2.33.2)\n",
      "Requirement already satisfied: typing-extensions>=4.12.2 in c:\\users\\adi\\appdata\\local\\programs\\python\\python311\\lib\\site-packages (from pydantic!=2.0.*,!=2.1.*,!=2.2.0,>=1.10.8->qdrant_client) (4.14.1)\n",
      "Requirement already satisfied: typing-inspection>=0.4.0 in c:\\users\\adi\\appdata\\local\\programs\\python\\python311\\lib\\site-packages (from pydantic!=2.0.*,!=2.1.*,!=2.2.0,>=1.10.8->qdrant_client) (0.4.1)\n",
      "Requirement already satisfied: python-dateutil>=2.8.2 in c:\\users\\adi\\appdata\\local\\programs\\python\\python311\\lib\\site-packages (from pandas->minsearch) (2.8.2)\n",
      "Requirement already satisfied: pytz>=2020.1 in c:\\users\\adi\\appdata\\local\\programs\\python\\python311\\lib\\site-packages (from pandas->minsearch) (2025.2)\n",
      "Requirement already satisfied: tzdata>=2022.7 in c:\\users\\adi\\appdata\\local\\programs\\python\\python311\\lib\\site-packages (from pandas->minsearch) (2025.2)\n",
      "Requirement already satisfied: scipy>=1.6.0 in c:\\users\\adi\\appdata\\local\\programs\\python\\python311\\lib\\site-packages (from scikit-learn->minsearch) (1.15.2)\n",
      "Requirement already satisfied: joblib>=1.2.0 in c:\\users\\adi\\appdata\\local\\programs\\python\\python311\\lib\\site-packages (from scikit-learn->minsearch) (1.5.0)\n",
      "Requirement already satisfied: threadpoolctl>=3.1.0 in c:\\users\\adi\\appdata\\local\\programs\\python\\python311\\lib\\site-packages (from scikit-learn->minsearch) (3.6.0)\n",
      "Requirement already satisfied: hyperframe<7,>=6.1 in c:\\users\\adi\\appdata\\local\\programs\\python\\python311\\lib\\site-packages (from h2<5,>=3->httpx[http2]>=0.20.0->qdrant_client) (6.1.0)\n",
      "Requirement already satisfied: hpack<5,>=4.1 in c:\\users\\adi\\appdata\\local\\programs\\python\\python311\\lib\\site-packages (from h2<5,>=3->httpx[http2]>=0.20.0->qdrant_client) (4.1.0)\n",
      "Requirement already satisfied: six>=1.5 in c:\\users\\adi\\appdata\\local\\programs\\python\\python311\\lib\\site-packages (from python-dateutil>=2.8.2->pandas->minsearch) (1.17.0)\n",
      "Requirement already satisfied: sniffio>=1.1 in c:\\users\\adi\\appdata\\local\\programs\\python\\python311\\lib\\site-packages (from anyio->httpx>=0.20.0->httpx[http2]>=0.20.0->qdrant_client) (1.3.1)\n",
      "Downloading qdrant_client-1.15.0-py3-none-any.whl (337 kB)\n",
      "   ---------------------------------------- 337.3/337.3 kB 2.1 MB/s eta 0:00:00\n",
      "Installing collected packages: qdrant_client\n",
      "  Attempting uninstall: qdrant_client\n",
      "    Found existing installation: qdrant-client 1.14.2\n",
      "    Uninstalling qdrant-client-1.14.2:\n",
      "      Successfully uninstalled qdrant-client-1.14.2\n",
      "Successfully installed qdrant_client-1.15.0\n"
     ]
    },
    {
     "name": "stderr",
     "output_type": "stream",
     "text": [
      "\n",
      "[notice] A new release of pip is available: 24.0 -> 25.1.1\n",
      "[notice] To update, run: python.exe -m pip install --upgrade pip\n"
     ]
    }
   ],
   "source": [
    "#pip install -U minsearch qdrant_client"
   ]
  },
  {
   "cell_type": "code",
   "execution_count": 5,
   "id": "d5c1c960",
   "metadata": {},
   "outputs": [],
   "source": [
    "import requests\n",
    "import pandas as pd\n",
    "\n",
    "url_prefix = 'https://raw.githubusercontent.com/DataTalksClub/llm-zoomcamp/main/03-evaluation/'\n",
    "docs_url = url_prefix + 'search_evaluation/documents-with-ids.json'\n",
    "documents = requests.get(docs_url).json()\n",
    "\n",
    "ground_truth_url = url_prefix + 'search_evaluation/ground-truth-data.csv'\n",
    "df_ground_truth = pd.read_csv(ground_truth_url)\n",
    "ground_truth = df_ground_truth.to_dict(orient='records')"
   ]
  },
  {
   "cell_type": "code",
   "execution_count": 11,
   "id": "7627759d",
   "metadata": {},
   "outputs": [],
   "source": [
    "from tqdm.auto import tqdm\n",
    "\n",
    "def hit_rate(relevance_total):\n",
    "    cnt = 0\n",
    "\n",
    "    for line in relevance_total:\n",
    "        if True in line:\n",
    "            cnt = cnt + 1\n",
    "\n",
    "    return cnt / len(relevance_total)\n",
    "\n",
    "def mrr(relevance_total):\n",
    "    total_score = 0.0\n",
    "\n",
    "    for line in relevance_total:\n",
    "        for rank in range(len(line)):\n",
    "            if line[rank] == True:\n",
    "                total_score = total_score + 1 / (rank + 1)\n",
    "\n",
    "    return total_score / len(relevance_total)\n",
    "\n",
    "def evaluate(ground_truth, search_function):\n",
    "    relevance_total = []\n",
    "\n",
    "    for q in tqdm(ground_truth):\n",
    "        doc_id = q['document']\n",
    "        results = search_function(q)\n",
    "        relevance = [d['id'] == doc_id for d in results]\n",
    "        relevance_total.append(relevance)\n",
    "\n",
    "    return {\n",
    "        'hit_rate': hit_rate(relevance_total),\n",
    "        'mrr': mrr(relevance_total),\n",
    "    }"
   ]
  },
  {
   "cell_type": "code",
   "execution_count": 9,
   "id": "aa4207da",
   "metadata": {},
   "outputs": [],
   "source": [
    "# Build Minsearch index\n",
    "index = minsearch.Index(\n",
    "    text_fields=[\"question\", \"section\", \"text\"],\n",
    "    keyword_fields=[\"course\", \"id\"]\n",
    ")\n",
    "index.fit(documents)\n",
    "\n",
    "boost = {'question': 1.5, 'section': 0.1}"
   ]
  },
  {
   "cell_type": "code",
   "execution_count": 10,
   "id": "b5f22567",
   "metadata": {},
   "outputs": [],
   "source": [
    "# Define search function\n",
    "def minsearch_search(query, course):\n",
    "    return index.search(\n",
    "        query=query,\n",
    "        filter_dict={'course': course},\n",
    "        boost_dict=boost,\n",
    "        num_results=5\n",
    "    )\n"
   ]
  },
  {
   "cell_type": "code",
   "execution_count": 12,
   "id": "41e7240a",
   "metadata": {},
   "outputs": [
    {
     "data": {
      "application/vnd.jupyter.widget-view+json": {
       "model_id": "743389142f344b348c4591b07b3dc643",
       "version_major": 2,
       "version_minor": 0
      },
      "text/plain": [
       "  0%|          | 0/4627 [00:00<?, ?it/s]"
      ]
     },
     "metadata": {},
     "output_type": "display_data"
    }
   ],
   "source": [
    "# Evaluate hitrate\n",
    "relevance_total = []\n",
    "for q in tqdm(ground_truth):\n",
    "    doc_id = q['document']\n",
    "    results = minsearch_search(query=q['question'], course=q['course'])\n",
    "    relevance = [d['id'] == doc_id for d in results]\n",
    "    relevance_total.append(relevance)"
   ]
  },
  {
   "cell_type": "markdown",
   "id": "8fea2eca",
   "metadata": {},
   "source": [
    "### Answer:1 "
   ]
  },
  {
   "cell_type": "code",
   "execution_count": 13,
   "id": "20d1b096",
   "metadata": {},
   "outputs": [
    {
     "name": "stdout",
     "output_type": "stream",
     "text": [
      "Minsearch hitrate (with boost): 0.848714069591528\n"
     ]
    }
   ],
   "source": [
    "\n",
    "hit = hit_rate(relevance_total)\n",
    "print(\"Minsearch hitrate (with boost):\", hit)"
   ]
  },
  {
   "cell_type": "code",
   "execution_count": 16,
   "id": "75f205b3",
   "metadata": {},
   "outputs": [
    {
     "name": "stdout",
     "output_type": "stream",
     "text": [
      "Note: you may need to restart the kernel to use updated packages.Requirement already satisfied: minsearch in c:\\users\\adi\\appdata\\local\\programs\\python\\python311\\lib\\site-packages (0.0.4)\n",
      "Requirement already satisfied: numpy in c:\\users\\adi\\appdata\\local\\programs\\python\\python311\\lib\\site-packages (from minsearch) (1.26.4)\n",
      "Requirement already satisfied: pandas in c:\\users\\adi\\appdata\\local\\programs\\python\\python311\\lib\\site-packages (from minsearch) (2.2.3)\n",
      "Requirement already satisfied: scikit-learn in c:\\users\\adi\\appdata\\local\\programs\\python\\python311\\lib\\site-packages (from minsearch) (1.6.1)\n",
      "Requirement already satisfied: python-dateutil>=2.8.2 in c:\\users\\adi\\appdata\\local\\programs\\python\\python311\\lib\\site-packages (from pandas->minsearch) (2.8.2)\n",
      "Requirement already satisfied: pytz>=2020.1 in c:\\users\\adi\\appdata\\local\\programs\\python\\python311\\lib\\site-packages (from pandas->minsearch) (2025.2)\n",
      "Requirement already satisfied: tzdata>=2022.7 in c:\\users\\adi\\appdata\\local\\programs\\python\\python311\\lib\\site-packages (from pandas->minsearch) (2025.2)\n",
      "Requirement already satisfied: scipy>=1.6.0 in c:\\users\\adi\\appdata\\local\\programs\\python\\python311\\lib\\site-packages (from scikit-learn->minsearch) (1.15.2)\n",
      "Requirement already satisfied: joblib>=1.2.0 in c:\\users\\adi\\appdata\\local\\programs\\python\\python311\\lib\\site-packages (from scikit-learn->minsearch) (1.5.0)\n",
      "Requirement already satisfied: threadpoolctl>=3.1.0 in c:\\users\\adi\\appdata\\local\\programs\\python\\python311\\lib\\site-packages (from scikit-learn->minsearch) (3.6.0)\n",
      "Requirement already satisfied: six>=1.5 in c:\\users\\adi\\appdata\\local\\programs\\python\\python311\\lib\\site-packages (from python-dateutil>=2.8.2->pandas->minsearch) (1.17.0)\n",
      "\n"
     ]
    },
    {
     "name": "stderr",
     "output_type": "stream",
     "text": [
      "\n",
      "[notice] A new release of pip is available: 24.0 -> 25.1.1\n",
      "[notice] To update, run: python.exe -m pip install --upgrade pip\n"
     ]
    }
   ],
   "source": [
    "%pip install -U minsearch"
   ]
  },
  {
   "cell_type": "code",
   "execution_count": 17,
   "id": "a6af43fb",
   "metadata": {},
   "outputs": [
    {
     "ename": "ImportError",
     "evalue": "cannot import name 'VectorSearch' from 'minsearch' (c:\\Users\\Adi\\LLM-ZOOMCAMP\\03-evaluation\\minsearch.py)",
     "output_type": "error",
     "traceback": [
      "\u001b[1;31m---------------------------------------------------------------------------\u001b[0m",
      "\u001b[1;31mImportError\u001b[0m                               Traceback (most recent call last)",
      "Cell \u001b[1;32mIn[17], line 1\u001b[0m\n\u001b[1;32m----> 1\u001b[0m \u001b[38;5;28;01mfrom\u001b[39;00m\u001b[38;5;250m \u001b[39m\u001b[38;5;21;01mminsearch\u001b[39;00m\u001b[38;5;250m \u001b[39m\u001b[38;5;28;01mimport\u001b[39;00m VectorSearch\n",
      "\u001b[1;31mImportError\u001b[0m: cannot import name 'VectorSearch' from 'minsearch' (c:\\Users\\Adi\\LLM-ZOOMCAMP\\03-evaluation\\minsearch.py)"
     ]
    }
   ],
   "source": [
    "from minsearch import VectorSearch"
   ]
  },
  {
   "cell_type": "markdown",
   "id": "34262326",
   "metadata": {},
   "source": [
    "### Answer:2"
   ]
  },
  {
   "cell_type": "code",
   "execution_count": 14,
   "id": "a9e01f70",
   "metadata": {},
   "outputs": [
    {
     "name": "stdout",
     "output_type": "stream",
     "text": [
      "MRR (VectorSearch, question field): 0.7288235717887772\n"
     ]
    }
   ],
   "source": [
    "score = mrr(relevance_total)\n",
    "print(\"MRR (VectorSearch, question field):\", score)"
   ]
  },
  {
   "cell_type": "code",
   "execution_count": null,
   "id": "59b13073",
   "metadata": {},
   "outputs": [],
   "source": []
  }
 ],
 "metadata": {
  "kernelspec": {
   "display_name": "Python 3",
   "language": "python",
   "name": "python3"
  },
  "language_info": {
   "codemirror_mode": {
    "name": "ipython",
    "version": 3
   },
   "file_extension": ".py",
   "mimetype": "text/x-python",
   "name": "python",
   "nbconvert_exporter": "python",
   "pygments_lexer": "ipython3",
   "version": "3.11.9"
  }
 },
 "nbformat": 4,
 "nbformat_minor": 5
}
